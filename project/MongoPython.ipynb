{
 "cells": [
  {
   "cell_type": "code",
   "execution_count": 3,
   "id": "140252d5-a303-4210-b57a-841c95ba78ed",
   "metadata": {},
   "outputs": [
    {
     "name": "stdout",
     "output_type": "stream",
     "text": [
      "Collecting pymongo\n",
      "  Downloading pymongo-4.10.1-cp312-cp312-win_amd64.whl.metadata (22 kB)\n",
      "Collecting dnspython<3.0.0,>=1.16.0 (from pymongo)\n",
      "  Downloading dnspython-2.6.1-py3-none-any.whl.metadata (5.8 kB)\n",
      "Downloading pymongo-4.10.1-cp312-cp312-win_amd64.whl (926 kB)\n",
      "   ---------------------------------------- 0.0/926.7 kB ? eta -:--:--\n",
      "   - -------------------------------------- 30.7/926.7 kB 1.3 MB/s eta 0:00:01\n",
      "   -- ------------------------------------ 61.4/926.7 kB 812.7 kB/s eta 0:00:02\n",
      "   ---- --------------------------------- 112.6/926.7 kB 819.2 kB/s eta 0:00:01\n",
      "   ----- -------------------------------- 143.4/926.7 kB 774.0 kB/s eta 0:00:02\n",
      "   ------- ------------------------------ 174.1/926.7 kB 807.1 kB/s eta 0:00:01\n",
      "   -------- ----------------------------- 204.8/926.7 kB 778.2 kB/s eta 0:00:01\n",
      "   ---------- --------------------------- 256.0/926.7 kB 785.2 kB/s eta 0:00:01\n",
      "   ----------- -------------------------- 286.7/926.7 kB 770.1 kB/s eta 0:00:01\n",
      "   ------------- ------------------------ 317.4/926.7 kB 785.7 kB/s eta 0:00:01\n",
      "   --------------- ---------------------- 368.6/926.7 kB 791.2 kB/s eta 0:00:01\n",
      "   ---------------- --------------------- 399.4/926.7 kB 778.2 kB/s eta 0:00:01\n",
      "   ------------------ ------------------- 440.3/926.7 kB 786.3 kB/s eta 0:00:01\n",
      "   ------------------- ------------------ 471.0/926.7 kB 797.2 kB/s eta 0:00:01\n",
      "   --------------------- ---------------- 522.2/926.7 kB 798.8 kB/s eta 0:00:01\n",
      "   ---------------------- --------------- 553.0/926.7 kB 788.8 kB/s eta 0:00:01\n",
      "   ----------------------- -------------- 583.7/926.7 kB 797.6 kB/s eta 0:00:01\n",
      "   ------------------------- ------------ 614.4/926.7 kB 788.7 kB/s eta 0:00:01\n",
      "   -------------------------- ----------- 655.4/926.7 kB 793.5 kB/s eta 0:00:01\n",
      "   --------------------------- ---------- 665.6/926.7 kB 776.5 kB/s eta 0:00:01\n",
      "   --------------------------- ---------- 665.6/926.7 kB 776.5 kB/s eta 0:00:01\n",
      "   --------------------------- ---------- 665.6/926.7 kB 776.5 kB/s eta 0:00:01\n",
      "   --------------------------- ---------- 665.6/926.7 kB 776.5 kB/s eta 0:00:01\n",
      "   -------------------------------- ----- 798.7/926.7 kB 764.8 kB/s eta 0:00:01\n",
      "   -------------------------------- ----- 798.7/926.7 kB 764.8 kB/s eta 0:00:01\n",
      "   ---------------------------------- --- 849.9/926.7 kB 726.4 kB/s eta 0:00:01\n",
      "   ---------------------------------- --- 849.9/926.7 kB 726.4 kB/s eta 0:00:01\n",
      "   -------------------------------------  921.6/926.7 kB 738.5 kB/s eta 0:00:01\n",
      "   -------------------------------------- 926.7/926.7 kB 715.4 kB/s eta 0:00:00\n",
      "Downloading dnspython-2.6.1-py3-none-any.whl (307 kB)\n",
      "   ---------------------------------------- 0.0/307.7 kB ? eta -:--:--\n",
      "   - -------------------------------------- 10.2/307.7 kB ? eta -:--:--\n",
      "   ----- --------------------------------- 41.0/307.7 kB 653.6 kB/s eta 0:00:01\n",
      "   ------- ------------------------------- 61.4/307.7 kB 825.8 kB/s eta 0:00:01\n",
      "   ------- ------------------------------- 61.4/307.7 kB 825.8 kB/s eta 0:00:01\n",
      "   --------------- ---------------------- 122.9/307.7 kB 554.9 kB/s eta 0:00:01\n",
      "   --------------------- ---------------- 174.1/307.7 kB 655.4 kB/s eta 0:00:01\n",
      "   ------------------------- ------------ 204.8/307.7 kB 655.1 kB/s eta 0:00:01\n",
      "   ----------------------------- -------- 235.5/307.7 kB 654.9 kB/s eta 0:00:01\n",
      "   ------------------------------- ------ 256.0/307.7 kB 655.4 kB/s eta 0:00:01\n",
      "   ----------------------------------- -- 286.7/307.7 kB 655.2 kB/s eta 0:00:01\n",
      "   -------------------------------------- 307.7/307.7 kB 634.2 kB/s eta 0:00:00\n",
      "Installing collected packages: dnspython, pymongo\n",
      "Successfully installed dnspython-2.6.1 pymongo-4.10.1\n",
      "Note: you may need to restart the kernel to use updated packages.\n"
     ]
    }
   ],
   "source": [
    "pip install pymongo\n"
   ]
  },
  {
   "cell_type": "code",
   "execution_count": 5,
   "id": "73281f95-16b0-45d4-a72f-c344f20a2f0c",
   "metadata": {},
   "outputs": [
    {
     "name": "stdout",
     "output_type": "stream",
     "text": [
      "{'_id': ObjectId('66fe3840485dd3b1e326f902'), 'nama': 'Jane doe', 'alamat': 'Bandung', 'kelas': 'Alpha', 'nim': 22425678.0, 'nohp': '081234567890'}\n",
      "{'_id': ObjectId('66fe39bc485dd3b1e326f904'), 'nama': 'John doe', 'alamat': 'Jakarta', 'kelas': 'Alpha', 'nim': 22425678, 'nohp': '081234567890'}\n",
      "{'_id': ObjectId('66fe3a26485dd3b1e326f905'), 'nama': 'Iqbaal', 'alamat': 'Jakarta', 'kelas': 'Beta', 'nim': 224060023, 'nohp': '081234523457'}\n",
      "{'_id': ObjectId('66fe3a84485dd3b1e326f906'), 'nama': 'Homelander', 'alamat': 'Ohio', 'kelas': 'Sigma', 'nim': 2232314, 'nohp': '0853213457'}\n",
      "{'_id': ObjectId('66fe3ab1485dd3b1e326f907'), 'nama': 'Alkatiri', 'alamat': 'Jawa', 'kelas': 'Alpha', 'nim': 2232311, 'nohp': '08535663457'}\n",
      "{'_id': ObjectId('66fe3ad1485dd3b1e326f908'), 'nama': 'Maulana', 'alamat': 'Bandung', 'kelas': 'Alpha', 'nim': 2232111, 'nohp': '08213114127'}\n",
      "{'_id': ObjectId('66fe3b0f485dd3b1e326f909'), 'nama': 'Alexa', 'alamat': 'Cimahi', 'kelas': 'Sigma', 'nim': 2212111, 'nohp': '0821311123'}\n",
      "{'_id': ObjectId('66fe3b2c485dd3b1e326f90a'), 'nama': 'Oesman', 'alamat': 'Cikadut', 'kelas': 'Sigma', 'nim': 22435111, 'nohp': '082131123324'}\n",
      "{'_id': ObjectId('66fe3b54485dd3b1e326f90b'), 'nama': 'Rahman', 'alamat': 'Arcamanik', 'kelas': 'Beta', 'nim': 21234511, 'nohp': '0821124563'}\n",
      "{'_id': ObjectId('66fe3b8c485dd3b1e326f90c'), 'nama': 'Maman', 'alamat': 'Cileunyi', 'kelas': 'Beta', 'nim': 21212361, 'nohp': '08123765563'}\n",
      "{'_id': ObjectId('66fe416ea23611793cffaba3'), 'nama': 'Budi', 'alamat': 'Bandung', 'kelas': 'Beta', 'nim': 224060030, 'nohp': '08956723418'}\n"
     ]
    }
   ],
   "source": [
    "#LIHAT DATA\n",
    "from pymongo import MongoClient\n",
    "\n",
    "\n",
    "# Koneksi ke MongoDB\n",
    "client = MongoClient(\"mongodb://localhost:27017/\")  # Pastikan MongoDB berjalan secara lokal di port 27017\n",
    "\n",
    "# Pilih database\n",
    "db = client[\"testmsib\"]  # Ganti dengan nama database Anda\n",
    "\n",
    "# Pilih collection\n",
    "collection = db[\"data mhs\"]  # Ganti dengan nama koleksi yang ingin dibuka\n",
    "\n",
    "# Menampilkan isi collection\n",
    "documents = collection.find()  # Mengambil semua dokumen dari koleksi\n",
    "\n",
    "# Menampilkan isi dokumen\n",
    "for doc in documents:\n",
    "    print(doc)\n",
    "\n",
    "# Menutup koneksi\n",
    "client.close()\n"
   ]
  },
  {
   "cell_type": "code",
   "execution_count": 2,
   "id": "59b62ede-88d7-4602-b95d-9b35866c0009",
   "metadata": {},
   "outputs": [
    {
     "name": "stdout",
     "output_type": "stream",
     "text": [
      "Data berhasil ditambahkan dengan ID: 66fe416ea23611793cffaba3\n"
     ]
    }
   ],
   "source": [
    "#TAMBAH DATA\n",
    "from pymongo import MongoClient\n",
    "\n",
    "# Koneksi ke MongoDB\n",
    "client = MongoClient(\"mongodb://localhost:27017/\")  # Ubah sesuai dengan host MongoDB Anda\n",
    "\n",
    "# Pilih database\n",
    "db = client[\"testmsib\"]  # Ganti dengan nama database Anda\n",
    "\n",
    "# Pilih collection\n",
    "collection = db[\"data mhs\"]  # Ganti dengan nama koleksi Anda\n",
    "\n",
    "# Data yang ingin ditambahkan\n",
    "data_baru = {\n",
    "    \"nama\": \"Budi\",\n",
    "    \"alamat\": \"Yogyakarta\",\n",
    "    \"kelas\": \"Beta\",\n",
    "    \"nim\" : 224060030,\n",
    "    \"nohp\" : \"08956723418\"\n",
    "}\n",
    "\n",
    "# Menambahkan data ke collection\n",
    "insert_result = collection.insert_one(data_baru)\n",
    "\n",
    "# Menampilkan ID dokumen yang baru ditambahkan\n",
    "print(f\"Data berhasil ditambahkan dengan ID: {insert_result.inserted_id}\")\n",
    "\n",
    "# Menutup koneksi\n",
    "client.close()\n"
   ]
  },
  {
   "cell_type": "code",
   "execution_count": 4,
   "id": "0222ec8c-619b-4215-ab97-6b204d72eb4b",
   "metadata": {},
   "outputs": [
    {
     "name": "stdout",
     "output_type": "stream",
     "text": [
      "1 dokumen berhasil diupdate.\n"
     ]
    }
   ],
   "source": [
    "#UPDATE DATA\n",
    "from pymongo import MongoClient\n",
    "\n",
    "# Koneksi ke MongoDB\n",
    "client = MongoClient(\"mongodb://localhost:27017/\")  # Ubah sesuai dengan host MongoDB Anda\n",
    "\n",
    "# Pilih database\n",
    "db = client[\"testmsib\"]  # Ganti dengan nama database Anda\n",
    "\n",
    "# Pilih collection\n",
    "collection = db[\"data mhs\"]  # Ganti dengan nama koleksi Anda\n",
    "\n",
    "# Kriteria data yang ingin diedit (misalnya berdasarkan nama)\n",
    "kriteria = {\"nama\": \"Budi\"}\n",
    "\n",
    "# Data baru yang ingin diupdate\n",
    "data_baru = {\n",
    "    \"$set\": {\n",
    "        \"alamat\": \"Bandung\",  # Mengubah kota di dalam field alamat\n",
    "    }\n",
    "}\n",
    "\n",
    "# Melakukan update data\n",
    "update_result = collection.update_one(kriteria, data_baru)\n",
    "\n",
    "# Menampilkan hasil\n",
    "if update_result.matched_count > 0:\n",
    "    print(f\"{update_result.modified_count} dokumen berhasil diupdate.\")\n",
    "else:\n",
    "    print(\"Tidak ada data yang cocok untuk diupdate.\")\n",
    "\n",
    "# Menutup koneksi\n",
    "client.close()\n"
   ]
  },
  {
   "cell_type": "code",
   "execution_count": 7,
   "id": "96bc216c-f374-4a34-86eb-1e539e667f8d",
   "metadata": {},
   "outputs": [
    {
     "name": "stdout",
     "output_type": "stream",
     "text": [
      "Dokumen berhasil dihapus.\n"
     ]
    }
   ],
   "source": [
    "#HAPUS DATA\n",
    "from pymongo import MongoClient\n",
    "\n",
    "# Koneksi ke MongoDB\n",
    "client = MongoClient(\"mongodb://localhost:27017/\")  # Ubah sesuai dengan host MongoDB Anda\n",
    "\n",
    "# Pilih database\n",
    "db = client[\"testmsib\"]  # Ganti dengan nama database Anda\n",
    "\n",
    "# Pilih collection\n",
    "collection = db[\"data mhs\"]  # Ganti dengan nama koleksi Anda\n",
    "\n",
    "# Kriteria data yang ingin dihapus (misalnya berdasarkan nama)\n",
    "kriteria = {\"nama\": \"Alexa\"}\n",
    "\n",
    "# Menghapus satu data yang sesuai dengan kriteria\n",
    "delete_result = collection.delete_one(kriteria)\n",
    "\n",
    "# Menampilkan hasil\n",
    "if delete_result.deleted_count > 0:\n",
    "    print(\"Dokumen berhasil dihapus.\")\n",
    "else:\n",
    "    print(\"Tidak ada data yang cocok untuk dihapus.\")\n",
    "\n",
    "# Menutup koneksi\n",
    "client.close()\n"
   ]
  }
 ],
 "metadata": {
  "kernelspec": {
   "display_name": "Python 3 (ipykernel)",
   "language": "python",
   "name": "python3"
  },
  "language_info": {
   "codemirror_mode": {
    "name": "ipython",
    "version": 3
   },
   "file_extension": ".py",
   "mimetype": "text/x-python",
   "name": "python",
   "nbconvert_exporter": "python",
   "pygments_lexer": "ipython3",
   "version": "3.12.4"
  }
 },
 "nbformat": 4,
 "nbformat_minor": 5
}
