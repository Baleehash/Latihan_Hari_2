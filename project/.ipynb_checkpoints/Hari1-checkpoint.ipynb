{
 "cells": [
  {
   "cell_type": "code",
   "execution_count": 5,
   "id": "4e18b872-1150-4c88-a97c-13df8afc35ab",
   "metadata": {},
   "outputs": [
    {
     "name": "stdout",
     "output_type": "stream",
     "text": [
      "Saya belajar Python\n",
      "Saya suka ular Python\n",
      "Ini coba error\"\n"
     ]
    }
   ],
   "source": [
    "print('Saya belajar Python')\n",
    "print(\"Saya suka ular Python\")\n",
    "print('Ini coba error\"')"
   ]
  },
  {
   "cell_type": "code",
   "execution_count": 7,
   "id": "ea5b54ac-c981-4e90-8ea4-91de033ca4be",
   "metadata": {},
   "outputs": [
    {
     "name": "stdout",
     "output_type": "stream",
     "text": [
      "3\n",
      "c\n"
     ]
    }
   ],
   "source": [
    "a=1\n",
    "b=2\n",
    "c=a+b\n",
    "print(c)   #akan dicetak isinya c\n",
    "print(\"c\")  #akan dicetak c apa adanya."
   ]
  },
  {
   "cell_type": "code",
   "execution_count": 8,
   "id": "61e5a630-f47e-49de-a557-da4680d53ebf",
   "metadata": {},
   "outputs": [
    {
     "name": "stdout",
     "output_type": "stream",
     "text": [
      "Luasnya adalah : 200\n"
     ]
    }
   ],
   "source": [
    "#proggram hitung luas segi empat\n",
    "#input :\n",
    "panjang = 20\n",
    "lebar =10\n",
    "#proses :\n",
    "luas=panjang*lebar\n",
    "#output \"\n",
    "print('Luasnya adalah :', luas)"
   ]
  },
  {
   "cell_type": "code",
   "execution_count": null,
   "id": "e5e66d22-39e4-4029-8dfc-ebb8e6149f96",
   "metadata": {},
   "outputs": [],
   "source": [
    "#buatlah program yang sama untuk hitung luas segitiga..."
   ]
  },
  {
   "cell_type": "code",
   "execution_count": 10,
   "id": "074dcdb8-bbc6-4f69-851f-2bd62be22976",
   "metadata": {},
   "outputs": [
    {
     "name": "stdin",
     "output_type": "stream",
     "text": [
      "Masukkan panjang :  30\n",
      "Masukkan lebar :  15\n"
     ]
    },
    {
     "name": "stdout",
     "output_type": "stream",
     "text": [
      "Luasnya adalah : 450\n"
     ]
    }
   ],
   "source": [
    "#proggram hitung luas segi empat\n",
    "#input :\n",
    "panjang = int(input('Masukkan panjang : '))\n",
    "lebar = int(input('Masukkan lebar : '))\n",
    "#proses :\n",
    "luas=panjang*lebar\n",
    "#output \"\n",
    "print('Luasnya adalah :', luas)"
   ]
  },
  {
   "cell_type": "code",
   "execution_count": 11,
   "id": "3dcf48ec-a8ae-47a2-ace8-e6a448843256",
   "metadata": {},
   "outputs": [
    {
     "name": "stdout",
     "output_type": "stream",
     "text": [
      "100\n"
     ]
    }
   ],
   "source": [
    "#Mengenal tipe data pada angka\n",
    "#tipe integer, yaitu bilangan bulat (tanpa koma)\n",
    "a=30\n",
    "b=50\n",
    "c=20\n",
    "d=a+b+c\n",
    "print(d) "
   ]
  },
  {
   "cell_type": "code",
   "execution_count": 13,
   "id": "617e09f3-04e5-41c3-a5ea-ffccc5c8bea8",
   "metadata": {},
   "outputs": [
    {
     "name": "stdout",
     "output_type": "stream",
     "text": [
      "102.9\n",
      "44.23\n"
     ]
    }
   ],
   "source": [
    "#Mengenal tipe data pada angka\n",
    "#tipe float/real, yaitu bilangan desimal/pecahan(pakai koma)\n",
    "a=30.45\n",
    "b=52.35\n",
    "c=20.10\n",
    "d=a+b+c\n",
    "print(d)\n",
    "\n",
    "x=10\n",
    "y=34.23\n",
    "z=x+y\n",
    "print(z)"
   ]
  },
  {
   "cell_type": "code",
   "execution_count": 16,
   "id": "d4b3f437-3506-442d-9332-e08242572631",
   "metadata": {},
   "outputs": [
    {
     "name": "stdout",
     "output_type": "stream",
     "text": [
      "Ade Budi Cahyono 082332398798 3542131712450003\n",
      "Namaku :  Ade Budi Cahyono  No Hp : 082332398798  No. Ktp :  3542131712450003\n",
      "Ade Budi Cahyono0823323987983542131712450003\n",
      "Ade Budi Cahyono 082332398798 3542131712450003\n"
     ]
    }
   ],
   "source": [
    "#data bertipe string (kumpulan char=huruf)\n",
    "namaku='Ade Budi Cahyono'\n",
    "nohp='082332398798'\n",
    "noktp='3542131712450003'\n",
    "print(namaku,nohp,noktp)\n",
    "print('Namaku : ',namaku,' No Hp :',nohp,' No. Ktp : ',noktp)\n",
    "gabung=namaku+nohp+noktp\n",
    "print(gabung)\n",
    "gabung=namaku+' '+nohp+' '+noktp\n",
    "print(gabung)"
   ]
  },
  {
   "cell_type": "code",
   "execution_count": null,
   "id": "6490c0e3-5628-4e73-be7a-278412e21736",
   "metadata": {},
   "outputs": [],
   "source": []
  },
  {
   "cell_type": "code",
   "execution_count": null,
   "id": "fc91121e-4a5d-42a7-ab07-c466291381c1",
   "metadata": {},
   "outputs": [],
   "source": []
  }
 ],
 "metadata": {
  "kernelspec": {
   "display_name": "Python 3 (ipykernel)",
   "language": "python",
   "name": "python3"
  },
  "language_info": {
   "codemirror_mode": {
    "name": "ipython",
    "version": 3
   },
   "file_extension": ".py",
   "mimetype": "text/x-python",
   "name": "python",
   "nbconvert_exporter": "python",
   "pygments_lexer": "ipython3",
   "version": "3.12.4"
  }
 },
 "nbformat": 4,
 "nbformat_minor": 5
}
