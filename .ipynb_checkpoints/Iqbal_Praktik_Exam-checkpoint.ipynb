{
 "cells": [
  {
   "cell_type": "code",
   "execution_count": 145,
   "id": "28b2b752-2b9b-44ce-a734-d41d3c9f313d",
   "metadata": {},
   "outputs": [
    {
     "name": "stdout",
     "output_type": "stream",
     "text": [
      "120\n"
     ]
    }
   ],
   "source": [
    "def faktorial(n):\n",
    "    if n == 0 or n == 1 : #Jika n sama dengan 0 atau 1, hasil faktorialnya adalah 1\n",
    "        return 1\n",
    "    else:\n",
    "        return n * faktorial(n-1) #Untuk nilai n yang lebih besar dari 1, lakukan perkalian n dengam faktorial dari n-1 (rekursi)\n",
    "        \n",
    "print(faktorial(5)) #Output:120, Karena 5! = 5*4*3*2*1 = 120"
   ]
  },
  {
   "cell_type": "code",
   "execution_count": 146,
   "id": "eab8ba9b-8130-44ce-8464-38d525b2e44d",
   "metadata": {},
   "outputs": [
    {
     "name": "stdin",
     "output_type": "stream",
     "text": [
      "Masukan Kalimat:  Python Programming\n"
     ]
    },
    {
     "name": "stdout",
     "output_type": "stream",
     "text": [
      "{'a': 1, 'e': 0, 'i': 1, 'u': 0, 'o': 2}\n"
     ]
    }
   ],
   "source": [
    "def hitung_vokal(kalimat):\n",
    "    #Daftar furuf vokal yang akan dihitung kemunculannya\n",
    "    vokal = 'aeiuo'\n",
    "\n",
    "    #Buat dictionary untuk menyimpan jumlah kemunculan masing-masing huruf vokal\n",
    "    hasil = {v: 0 for v in vokal}\n",
    "    #ubah seluruh kalimat menjadi huruf kecilm lalu periksa seriap huruf\n",
    "    for huruf in kalimat.lower():\n",
    "        #Jika huruf tersebut termasuk vokal, tambahkan jumlahnya di dictionary\n",
    "        if huruf in vokal:\n",
    "            hasil[huruf] +=1\n",
    "    return hasil\n",
    "\n",
    "#Contoh penggunaan\n",
    "kalimat = input(\"Masukan Kalimat: \") #Contoh Input: \"Python Programming\"\n",
    "print(hitung_vokal(kalimat)) "
   ]
  },
  {
   "cell_type": "code",
   "execution_count": 147,
   "id": "ed840a5d-ae7e-4225-98dd-8054afe90b62",
   "metadata": {},
   "outputs": [
    {
     "name": "stdout",
     "output_type": "stream",
     "text": [
      "[2, 4, 6, 8, 10, 12, 14, 16, 18, 20, 22, 24, 26, 28, 30, 32, 34, 36, 38, 40, 42, 44, 46, 48, 50, 52, 54, 56, 58, 60, 62, 64, 66, 68, 70, 72, 74, 76, 78, 80, 82, 84, 86, 88, 90, 92, 94, 96, 98, 100]\n"
     ]
    }
   ],
   "source": [
    "def angka_genap(list):\n",
    "    #List comprehension: ambil setiap angka dari daftar dan periksa apakah angka tersebut genap\n",
    "    return [angka for angka in list if angka % 2 == 0]\n",
    "\n",
    "#Contoh penggunaan\n",
    "list_angka = list(range(1,101)) #Membuat daftar angka dari 1 hingga 100\n",
    "print(angka_genap(list_angka)) #Output: [2,4,6,...,100] (semua angka genap)"
   ]
  },
  {
   "cell_type": "code",
   "execution_count": 148,
   "id": "e4b3d64e-c046-48df-9976-0fed8c1b0a70",
   "metadata": {},
   "outputs": [
    {
     "name": "stdin",
     "output_type": "stream",
     "text": [
      "Masukkan Kata:  Kodok\n"
     ]
    },
    {
     "name": "stdout",
     "output_type": "stream",
     "text": [
      "Kodok adalah palindrome.\n"
     ]
    }
   ],
   "source": [
    "def cek_palindrome(kata):\n",
    "    #ubah menjadi huruf kecil dan hilnagkan semua sapasi agar pemeriksaan lebih akurat\n",
    "    kata = kata.lower().replace(\" \", \"\")\n",
    "\n",
    "    #Cek apakah kata sama ketika dibaca dari depan dan belakang\n",
    "    return kata == kata[::-1] #kata[::-1]membalikkan urutan kata\n",
    "\n",
    "#Contoh penggunaan\n",
    "kata = input(\"Masukkan Kata: \") #Contoh ipnut : \"Kodok\"\n",
    "\n",
    "#IF Else condition untuk mendeklarasikan apakah kata itu palindrome atau bukan\n",
    "if cek_palindrome(kata):\n",
    "    print(f\"{kata} adalah palindrome.\")\n",
    "else:\n",
    "    print(f\"{kata} bukan palindrome.\")"
   ]
  },
  {
   "cell_type": "code",
   "execution_count": 149,
   "id": "008c3ad4-bb01-4942-b47c-5d635503f682",
   "metadata": {},
   "outputs": [
    {
     "name": "stdout",
     "output_type": "stream",
     "text": [
      "[(5, 0), (3, 1), (1, 2)]\n"
     ]
    }
   ],
   "source": [
    "def urutkan_tuple(list_tuple):\n",
    "    #fungsi sorted akan mengurutkan daftar berdasarkan elemen kedua di tiap tuple\n",
    "    return sorted(daftar_tuple, key=lambda x: x[1]) #lambda x: x[1] berarti elemen kedua dari setiap tuple akan menjadi kunci pengurutan\n",
    "\n",
    "#contoh Penggunaan\n",
    "list_tuple = [(1, 2), (3, 1), (5, 0)]\n",
    "print(urutkan_tuple(list_tuple)) #Output: [5,0), (3,1), (1,2)] (diurutkan dari kecil ke besar berdasarkan elemen kedua)"
   ]
  },
  {
   "cell_type": "code",
   "execution_count": 150,
   "id": "37a5696b-f084-42be-a1cc-c0186816a5d3",
   "metadata": {},
   "outputs": [
    {
     "name": "stdout",
     "output_type": "stream",
     "text": [
      "Rata-rata: 505.74\n",
      "Median: 499.5\n",
      "Standar Deviasi: 276.41648358952835\n",
      "Jumlah Elemen Lebih Besar dari 500: 50\n"
     ]
    }
   ],
   "source": [
    "import numpy as np\n",
    "\n",
    "#buat array 1D dengan 100 agnka acak antara 1 dan 1000\n",
    "array_acak = np.random.randint(1, 1001, 100) #mengambil nilai integer random antara 1 dan 1000\n",
    "\n",
    "#Hitung nilai mean, median dan standar deviasi dari array\n",
    "mean = np.mean(array_acak) #menghitung rata-rata dengan parameter nilai integer random\n",
    "median = np.median(array_acak) #menghitung median dengan parameter nilai integer random\n",
    "standar_deviasi = np.std(array_acak) #menghitung standar deviasi dengan parameter nilai integer random\n",
    "\n",
    "#Hitung jumlah elemen yang lebih besar dari 500\n",
    "jumlah_elemen = np.sum(array_acak > 500) #menghitung jumlah elemen dengan parameteer dimana nilai integer random > 500\n",
    "\n",
    "#Output Hasil\n",
    "print(f\"Rata-rata: {mean}\")\n",
    "print(f\"Median: {median}\")\n",
    "print(f\"Standar Deviasi: {standar_deviasi}\")\n",
    "print(f\"Jumlah Elemen Lebih Besar dari 500: {jumlah_elemen}\")\n"
   ]
  },
  {
   "cell_type": "code",
   "execution_count": 173,
   "id": "6008f806-a5f6-44aa-b967-72e392f7b0e0",
   "metadata": {},
   "outputs": [
    {
     "name": "stdout",
     "output_type": "stream",
     "text": [
      "Matriks:\n",
      "[[ 9 10  9  8]\n",
      " [ 4  9  4  8]\n",
      " [10  3  0 10]\n",
      " [10  3  1  9]]\n",
      "Transpose Matriks:\n",
      "[[ 9  4 10 10]\n",
      " [10  9  3  3]\n",
      " [ 9  4  0  1]\n",
      " [ 8  8 10  9]]\n",
      "Determinan Matriks:\n",
      "39.99999999999987\n",
      "Invers Matriks:\n",
      "[[ -1.35    1.225  -6.425   7.25 ]\n",
      " [ -2.      2.     -9.     10.   ]\n",
      " [  1.95   -1.825   8.225  -9.25 ]\n",
      " [  1.95   -1.825   9.225 -10.25 ]]\n"
     ]
    }
   ],
   "source": [
    "#Buat matriks 4x4 dengan angka acak anatara 0 dan 10\n",
    "matriks = np.random.randint(0, 11, (4, 4))\n",
    "\n",
    "#mencari transpose dari matriks\n",
    "transpose_matriks = np.transpose(matriks)\n",
    "\n",
    "#mencari determinan matriks\n",
    "determinan = np.linalg.det(matriks)\n",
    "\n",
    "#hitung invers dari matriks, jika determinannya tidak nol (matriks bisa di-invers)\n",
    "if determinan != 0:\n",
    "    invers_matriks = np.linalg.inv(matriks)\n",
    "else:\n",
    "    invers_matriks = \"Matriks tidak dapat di invers karena determinannya nol.\"\n",
    "\n",
    "#Output hasil\n",
    "print(f\"Matriks:\\n{matriks}\")\n",
    "print(f\"Transpose Matriks:\\n{transpose_matriks}\")\n",
    "print(f\"Determinan Matriks:\\n{determinan}\")\n",
    "print(f\"Invers Matriks:\\n{invers_matriks}\")"
   ]
  },
  {
   "cell_type": "code",
   "execution_count": 152,
   "id": "46fd5c0d-adaf-4f47-a62b-072001e0c91a",
   "metadata": {},
   "outputs": [
    {
     "name": "stdout",
     "output_type": "stream",
     "text": [
      "Matriks 4x5:\n",
      "[[ 1  2  3  4  5]\n",
      " [ 6  7  8  9 10]\n",
      " [11 12 13 14 15]\n",
      " [16 17 18 19 20]]\n",
      "Maksimum dari setiap baris:\n",
      "[ 5 10 15 20]\n",
      "Maksimum dari setiap kolom:\n",
      "[16 17 18 19 20]\n"
     ]
    }
   ],
   "source": [
    "#Buat array 1D dari angka 1 hingga 20\n",
    "array_1d = np.arange(1, 21)\n",
    "\n",
    "#Reshape array menjadi matriks 4x5\n",
    "matriks = array_1d.reshape(4, 5)\n",
    "\n",
    "#hitung nilai maksimum dari setiap baris dan setipa kolom\n",
    "max_row = np.max(matriks, axis=1) #maks dari setiap baris\n",
    "max_col = np.max(matriks, axis=0) #maks dari setiap kolom\n",
    "\n",
    "#Output hasil\n",
    "print(f\"Matriks 4x5:\\n{matriks}\")\n",
    "print(f\"Maksimum dari setiap baris:\\n{max_row}\")\n",
    "print(f\"Maksimum dari setiap kolom:\\n{max_col}\")"
   ]
  },
  {
   "cell_type": "code",
   "execution_count": 153,
   "id": "23ba09b4-9962-4423-bc63-8d06d9f4a0af",
   "metadata": {},
   "outputs": [
    {
     "name": "stdout",
     "output_type": "stream",
     "text": [
      "Matriks A:\n",
      "[[7 7 9]\n",
      " [5 7 1]\n",
      " [8 9 6]]\n",
      "Matriks B:\n",
      "[[ 3  7  4]\n",
      " [ 3 10  1]\n",
      " [ 1 10 10]]\n",
      "Penjumlahan Matriks A:\n",
      "[[10 14 13]\n",
      " [ 8 17  2]\n",
      " [ 9 19 16]]\n",
      "Perkalian Element-Wise:\n",
      "[[21 49 36]\n",
      " [15 70  1]\n",
      " [ 8 90 60]]\n",
      "Dot Product (Perkalian Matriks):\n",
      "[[ 51 209 125]\n",
      " [ 37 115  37]\n",
      " [ 57 206 101]]\n"
     ]
    }
   ],
   "source": [
    "#Buat dua matriks 3x3 dengan angka acak antara 0 dan 10\n",
    "matriks_a = np.random.randint(0, 11, (3, 3))\n",
    "matriks_b = np.random.randint(0, 11, (3, 3))\n",
    "\n",
    "#tambahkan kedua matriks\n",
    "add = matriks_a + matriks_b\n",
    "\n",
    "#kalikan kedua matriks secara element-wise\n",
    "times_element_wise = matriks_a * matriks_b\n",
    "\n",
    "#Menghitung dot product (perkalian matriks)\n",
    "dot_product = np.dot(matriks_a, matriks_b)\n",
    "\n",
    "#Output Hasil\n",
    "print(f\"Matriks A:\\n{matriks_a}\")\n",
    "print(f\"Matriks B:\\n{matriks_b}\")\n",
    "print(f\"Penjumlahan Matriks A:\\n{add}\")\n",
    "print(f\"Perkalian Element-Wise:\\n{times_element_wise}\")\n",
    "print(f\"Dot Product (Perkalian Matriks):\\n{dot_product}\")"
   ]
  },
  {
   "cell_type": "code",
   "execution_count": 154,
   "id": "27e6c6fa-1d88-44c2-bfe2-aac68a668076",
   "metadata": {},
   "outputs": [],
   "source": [
    "import pandas as pd\n",
    "import matplotlib.pyplot as plt\n",
    "\n",
    "#Read file excel menggunakan pandas\n",
    "df = pd.read_excel('Sample_Superstore.xlsx')"
   ]
  },
  {
   "cell_type": "code",
   "execution_count": 155,
   "id": "1e179a88-b2e2-4e0e-9735-ec2c0f6417a6",
   "metadata": {},
   "outputs": [
    {
     "name": "stdout",
     "output_type": "stream",
     "text": [
      "5 Baris Pertama\n",
      "   Row ID        Order ID Order Date  Ship Date       Ship Mode Customer ID  \\\n",
      "0       1  CA-2016-152156 2016-11-08 2016-11-11    Second Class    CG-12520   \n",
      "1       2  CA-2016-152156 2016-11-08 2016-11-11    Second Class    CG-12520   \n",
      "2       3  CA-2016-138688 2016-06-12 2016-06-16    Second Class    DV-13045   \n",
      "3       4  US-2015-108966 2015-10-11 2015-10-18  Standard Class    SO-20335   \n",
      "4       5  US-2015-108966 2015-10-11 2015-10-18  Standard Class    SO-20335   \n",
      "\n",
      "     Customer Name    Segment        Country             City  ...  \\\n",
      "0      Claire Gute   Consumer  United States        Henderson  ...   \n",
      "1      Claire Gute   Consumer  United States        Henderson  ...   \n",
      "2  Darrin Van Huff  Corporate  United States      Los Angeles  ...   \n",
      "3   Sean O'Donnell   Consumer  United States  Fort Lauderdale  ...   \n",
      "4   Sean O'Donnell   Consumer  United States  Fort Lauderdale  ...   \n",
      "\n",
      "  Postal Code  Region       Product ID         Category Sub-Category  \\\n",
      "0       42420   South  FUR-BO-10001798        Furniture    Bookcases   \n",
      "1       42420   South  FUR-CH-10000454        Furniture       Chairs   \n",
      "2       90036    West  OFF-LA-10000240  Office Supplies       Labels   \n",
      "3       33311   South  FUR-TA-10000577        Furniture       Tables   \n",
      "4       33311   South  OFF-ST-10000760  Office Supplies      Storage   \n",
      "\n",
      "                                        Product Name     Sales  Quantity  \\\n",
      "0                  Bush Somerset Collection Bookcase  261.9600         2   \n",
      "1  Hon Deluxe Fabric Upholstered Stacking Chairs,...  731.9400         3   \n",
      "2  Self-Adhesive Address Labels for Typewriters b...   14.6200         2   \n",
      "3      Bretford CR4500 Series Slim Rectangular Table  957.5775         5   \n",
      "4                     Eldon Fold 'N Roll Cart System   22.3680         2   \n",
      "\n",
      "   Discount    Profit  \n",
      "0      0.00   41.9136  \n",
      "1      0.00  219.5820  \n",
      "2      0.00    6.8714  \n",
      "3      0.45 -383.0310  \n",
      "4      0.20    2.5164  \n",
      "\n",
      "[5 rows x 21 columns]\n"
     ]
    }
   ],
   "source": [
    "#Tampilkan 5 baris pertama data\n",
    "print(\"5 Baris Pertama\")\n",
    "print(df.head()) #jika tidak ada parameter yang diisi system secara otomatis menampilkan 5 baris pertama"
   ]
  },
  {
   "cell_type": "code",
   "execution_count": 156,
   "id": "f53866c5-4ed1-4ee0-aa41-df3e37a05b2e",
   "metadata": {},
   "outputs": [
    {
     "name": "stdout",
     "output_type": "stream",
     "text": [
      "\n",
      "Informasi Data:\n",
      "<class 'pandas.core.frame.DataFrame'>\n",
      "RangeIndex: 9994 entries, 0 to 9993\n",
      "Data columns (total 21 columns):\n",
      " #   Column         Non-Null Count  Dtype         \n",
      "---  ------         --------------  -----         \n",
      " 0   Row ID         9994 non-null   int64         \n",
      " 1   Order ID       9994 non-null   object        \n",
      " 2   Order Date     9994 non-null   datetime64[ns]\n",
      " 3   Ship Date      9994 non-null   datetime64[ns]\n",
      " 4   Ship Mode      9994 non-null   object        \n",
      " 5   Customer ID    9994 non-null   object        \n",
      " 6   Customer Name  9994 non-null   object        \n",
      " 7   Segment        9994 non-null   object        \n",
      " 8   Country        9994 non-null   object        \n",
      " 9   City           9994 non-null   object        \n",
      " 10  State          9994 non-null   object        \n",
      " 11  Postal Code    9994 non-null   int64         \n",
      " 12  Region         9994 non-null   object        \n",
      " 13  Product ID     9994 non-null   object        \n",
      " 14  Category       9994 non-null   object        \n",
      " 15  Sub-Category   9994 non-null   object        \n",
      " 16  Product Name   9994 non-null   object        \n",
      " 17  Sales          9994 non-null   float64       \n",
      " 18  Quantity       9994 non-null   int64         \n",
      " 19  Discount       9994 non-null   float64       \n",
      " 20  Profit         9994 non-null   float64       \n",
      "dtypes: datetime64[ns](2), float64(3), int64(3), object(13)\n",
      "memory usage: 1.6+ MB\n",
      "None\n"
     ]
    }
   ],
   "source": [
    "# Tampilkan Informasi data setiap kolom\n",
    "print(\"\\nInformasi Data:\")\n",
    "print(df.info())"
   ]
  },
  {
   "cell_type": "code",
   "execution_count": 157,
   "id": "0dd53780-2057-481c-b92b-0af98c34310a",
   "metadata": {},
   "outputs": [
    {
     "name": "stdout",
     "output_type": "stream",
     "text": [
      "\n",
      "Total Sales dan Profit untuk setiap Category:\n",
      "                       Sales       Profit\n",
      "Category                                 \n",
      "Furniture        741999.7953   18451.2728\n",
      "Office Supplies  719047.0320  122490.8008\n",
      "Technology       836154.0330  145454.9481\n"
     ]
    }
   ],
   "source": [
    "# Mengelompokkan data berdasarkan kolom 'Category'\n",
    "# Kemudian, untuk setiap kategori, menghitung total 'Sales' dan 'Profit'\n",
    "total_sales_profit = df.groupby('Category')[['Sales', 'Profit']].sum()\n",
    "print(\"\\nTotal Sales dan Profit untuk setiap Category:\")\n",
    "print(total_sales_profit)"
   ]
  },
  {
   "cell_type": "code",
   "execution_count": 158,
   "id": "d840dad9-32c5-40ab-b2d7-47cecc73e241",
   "metadata": {},
   "outputs": [
    {
     "data": {
      "image/png": "[encoded data removed]",
      "text/plain": [
       "<Figure size 640x480 with 1 Axes>"
      ]
     },
     "metadata": {},
     "output_type": "display_data"
    }
   ],
   "source": [
    "#Buat Grafik batang dari total Sales untuk setiap Region\n",
    "\n",
    "# Mengelompokkan data berdasarkan kolom 'Region'\n",
    "# Kemudian, untuk setiap Region, menghitung total 'Sales'\n",
    "sales_by_region = df.groupby('Region')['Sales'].sum()\n",
    "\n",
    "#Plot Grafik batang\n",
    "sales_by_region.plot(kind='bar', color='skyblue', edgecolor='black')\n",
    "plt.title('Total Sales untuk setiap Region')\n",
    "plt.xlabel('Region')\n",
    "plt.ylabel('Total Sales')\n",
    "plt.show()"
   ]
  },
  {
   "cell_type": "code",
   "execution_count": 159,
   "id": "b2b39667-47c5-4689-88d5-293f90d6d3fb",
   "metadata": {},
   "outputs": [
    {
     "name": "stdout",
     "output_type": "stream",
     "text": [
      "\n",
      "Data Penjualan dari California:\n",
      "   Row ID        Order ID Order Date  Ship Date       Ship Mode Customer ID  \\\n",
      "2       3  CA-2016-138688 2016-06-12 2016-06-16    Second Class    DV-13045   \n",
      "5       6  CA-2014-115812 2014-06-09 2014-06-14  Standard Class    BH-11710   \n",
      "6       7  CA-2014-115812 2014-06-09 2014-06-14  Standard Class    BH-11710   \n",
      "7       8  CA-2014-115812 2014-06-09 2014-06-14  Standard Class    BH-11710   \n",
      "8       9  CA-2014-115812 2014-06-09 2014-06-14  Standard Class    BH-11710   \n",
      "\n",
      "     Customer Name    Segment        Country         City  ... Postal Code  \\\n",
      "2  Darrin Van Huff  Corporate  United States  Los Angeles  ...       90036   \n",
      "5  Brosina Hoffman   Consumer  United States  Los Angeles  ...       90032   \n",
      "6  Brosina Hoffman   Consumer  United States  Los Angeles  ...       90032   \n",
      "7  Brosina Hoffman   Consumer  United States  Los Angeles  ...       90032   \n",
      "8  Brosina Hoffman   Consumer  United States  Los Angeles  ...       90032   \n",
      "\n",
      "   Region       Product ID         Category Sub-Category  \\\n",
      "2    West  OFF-LA-10000240  Office Supplies       Labels   \n",
      "5    West  FUR-FU-10001487        Furniture  Furnishings   \n",
      "6    West  OFF-AR-10002833  Office Supplies          Art   \n",
      "7    West  TEC-PH-10002275       Technology       Phones   \n",
      "8    West  OFF-BI-10003910  Office Supplies      Binders   \n",
      "\n",
      "                                        Product Name    Sales  Quantity  \\\n",
      "2  Self-Adhesive Address Labels for Typewriters b...   14.620         2   \n",
      "5  Eldon Expressions Wood and Plastic Desk Access...   48.860         7   \n",
      "6                                         Newell 322    7.280         4   \n",
      "7                     Mitel 5320 IP Phone VoIP phone  907.152         6   \n",
      "8  DXL Angle-View Binders with Locking Rings by S...   18.504         3   \n",
      "\n",
      "   Discount   Profit  \n",
      "2       0.0   6.8714  \n",
      "5       0.0  14.1694  \n",
      "6       0.0   1.9656  \n",
      "7       0.2  90.7152  \n",
      "8       0.2   5.7825  \n",
      "\n",
      "[5 rows x 21 columns]\n"
     ]
    }
   ],
   "source": [
    "#Filter data untuk menampilkan hanya penjualan dari california\n",
    "california_data = df[df['State'] == 'California'] # Memilih baris dari DataFrame yang hanya berisi data untuk negara bagian 'California'\n",
    "print(\"\\nData Penjualan dari California:\")\n",
    "print(california_data.head())"
   ]
  },
  {
   "cell_type": "code",
   "execution_count": 160,
   "id": "ef36054d-bf55-46c6-9750-8bc4c3279f79",
   "metadata": {},
   "outputs": [
    {
     "name": "stdout",
     "output_type": "stream",
     "text": [
      "\n",
      "Rata-rata Profit untuk 'Office Supplies' di California: 31.5095030884808\n"
     ]
    }
   ],
   "source": [
    "#Hitung Rata-RAta Profit untuk kategori 'Office Supplies' di California\n",
    "\n",
    "california_offiece_supplies = california_data[california_data['Category'] == 'Office Supplies'] # Menyaring data California untuk kategori 'Office Supplies'\n",
    "average_profit_office_supplies = california_office_supplies['Profit'].mean() # Menghitung rata-rata profit untuk kategori 'Office Supplies' di California\n",
    "\n",
    "print(f\"\\nRata-rata Profit untuk 'Office Supplies' di California: {average_profit_office_supplies}\")"
   ]
  },
  {
   "cell_type": "code",
   "execution_count": 161,
   "id": "df65746e-22cf-4937-8449-85bc778770a6",
   "metadata": {},
   "outputs": [
    {
     "name": "stdout",
     "output_type": "stream",
     "text": [
      "\n",
      "Data California diurutkan berdasarkan Order Date:\n",
      "      Row ID        Order ID Order Date  Ship Date       Ship Mode  \\\n",
      "5327    5328  CA-2014-130813 2014-01-06 2014-01-08    Second Class   \n",
      "4937    4938  CA-2014-157147 2014-01-13 2014-01-18  Standard Class   \n",
      "4938    4939  CA-2014-157147 2014-01-13 2014-01-18  Standard Class   \n",
      "4939    4940  CA-2014-157147 2014-01-13 2014-01-18  Standard Class   \n",
      "5736    5737  CA-2014-148614 2014-01-20 2014-01-25  Standard Class   \n",
      "\n",
      "     Customer ID     Customer Name   Segment        Country           City  \\\n",
      "5327    LS-17230  Lycoris Saunders  Consumer  United States    Los Angeles   \n",
      "4937    BD-11605      Brian Dahlen  Consumer  United States  San Francisco   \n",
      "4938    BD-11605      Brian Dahlen  Consumer  United States  San Francisco   \n",
      "4939    BD-11605      Brian Dahlen  Consumer  United States  San Francisco   \n",
      "5736    MV-17485     Mark Van Huff  Consumer  United States    Los Angeles   \n",
      "\n",
      "      ... Postal Code  Region       Product ID         Category Sub-Category  \\\n",
      "5327  ...       90049    West  OFF-PA-10002005  Office Supplies        Paper   \n",
      "4937  ...       94109    West  OFF-ST-10000078  Office Supplies      Storage   \n",
      "4938  ...       94109    West  FUR-BO-10003034        Furniture    Bookcases   \n",
      "4939  ...       94109    West  OFF-AR-10003514  Office Supplies          Art   \n",
      "5736  ...       90049    West  OFF-PA-10002893  Office Supplies        Paper   \n",
      "\n",
      "                                       Product Name     Sales  Quantity  \\\n",
      "5327                                      Xerox 225    19.440         3   \n",
      "4937          Tennsco 6- and 18-Compartment Lockers  1325.850         5   \n",
      "4938  O'Sullivan Elevations Bookcase, Cherry Finish   333.999         3   \n",
      "4939                   4009 Highlighters by Sanford    19.900         5   \n",
      "5736      Wirebound Service Call Books, 5 1/2\" x 4\"    19.360         2   \n",
      "\n",
      "      Discount    Profit  \n",
      "5327      0.00    9.3312  \n",
      "4937      0.00  238.6530  \n",
      "4938      0.15    3.9294  \n",
      "4939      0.00    6.5670  \n",
      "5736      0.00    9.2928  \n",
      "\n",
      "[5 rows x 21 columns]\n"
     ]
    }
   ],
   "source": [
    "#Urutkan berdasarkan Order Date dalam urutan menaik\n",
    "california_sorted = california_sorted.sort_values(by='Order Date') #Mengurutkan data berdasarkan 'Order Date'\n",
    "print(\"\\nData California diurutkan berdasarkan Order Date:\")\n",
    "print(california_sorted.head())"
   ]
  },
  {
   "cell_type": "code",
   "execution_count": 162,
   "id": "24d2542f-53b5-4997-8860-c65b7af86d7f",
   "metadata": {},
   "outputs": [
    {
     "name": "stdout",
     "output_type": "stream",
     "text": [
      "\n",
      "Pivot Table - Total Sales berdasarkan Region dan Segement:\n",
      "Segment    Consumer    Corporate  Home Office\n",
      "Region                                       \n",
      "Central  252031.434  157995.8128   91212.6440\n",
      "East     350908.167  200409.3470  127463.7260\n",
      "South    195580.971  121885.9325   74255.0015\n",
      "West     362880.773  225855.2745  136721.7770\n"
     ]
    }
   ],
   "source": [
    "#Buat pivot table untuk total Sales berdasarkan Region dan Segement\n",
    "pivot_sales = pd.pivot_table(df, values='Sales', index='Region', columns='Segment', aggfunc='sum') #values: kolom yang di rangkum kemudian index region adalah barisnya dan segment dijadikan kolom \n",
    "print(\"\\nPivot Table - Total Sales berdasarkan Region dan Segement:\")\n",
    "print(pivot_sales)"
   ]
  },
  {
   "cell_type": "code",
   "execution_count": 163,
   "id": "4c35ee04-6ca7-45cc-9e0d-98610fcb196a",
   "metadata": {},
   "outputs": [
    {
     "name": "stdout",
     "output_type": "stream",
     "text": [
      "\n",
      "Pivot Table - Total Profit berdasarkan Category dan Sub-Category:\n",
      "Sub-Category     Accessories  Appliances       Art     Binders  Bookcases  \\\n",
      "Category                                                                    \n",
      "Furniture                NaN         NaN       NaN         NaN  -3472.556   \n",
      "Office Supplies          NaN  18138.0054  6527.787  30221.7633        NaN   \n",
      "Technology        41936.6357         NaN       NaN         NaN        NaN   \n",
      "\n",
      "Sub-Category         Chairs     Copiers  Envelopes  Fasteners  Furnishings  \\\n",
      "Category                                                                     \n",
      "Furniture        26590.1663         NaN        NaN        NaN   13059.1436   \n",
      "Office Supplies         NaN         NaN  6964.1767   949.5182          NaN   \n",
      "Technology              NaN  55617.8249        NaN        NaN          NaN   \n",
      "\n",
      "Sub-Category       Labels   Machines       Paper      Phones     Storage  \\\n",
      "Category                                                                   \n",
      "Furniture             NaN        NaN         NaN         NaN         NaN   \n",
      "Office Supplies  5546.254        NaN  34053.5693         NaN  21278.8264   \n",
      "Technology            NaN  3384.7569         NaN  44515.7306         NaN   \n",
      "\n",
      "Sub-Category      Supplies      Tables  \n",
      "Category                                \n",
      "Furniture              NaN -17725.4811  \n",
      "Office Supplies -1189.0995         NaN  \n",
      "Technology             NaN         NaN  \n"
     ]
    }
   ],
   "source": [
    "#Buat pivot table untuk total Sales berdasarkan Region dan Segement\n",
    "pivot_profit = pd.pivot_table(df, values='Profit', index='Category', columns='Sub-Category', aggfunc='sum')#values: kolom yang di rangkum kemudian index category adalah barisnya dan Sub-Category dijadikan kolom\n",
    "print(\"\\nPivot Table - Total Profit berdasarkan Category dan Sub-Category:\")\n",
    "print(pivot_profit)"
   ]
  },
  {
   "cell_type": "code",
   "execution_count": 164,
   "id": "70daffc6-f7a3-4251-a747-b4774a554ca1",
   "metadata": {},
   "outputs": [],
   "source": [
    "import pandas as pd\n",
    "\n",
    "# URL untuk dataset\n",
    "url = \"https://people.sc.fsu.edu/~jburkardt/data/csv/hw_200.csv\"\n",
    "\n",
    "# Baca data dari URL ke dalam DataFrame\n",
    "df_hw = pd.read_csv(url, header=None)"
   ]
  },
  {
   "cell_type": "code",
   "execution_count": 165,
   "id": "f03d8014-9e92-4808-92a8-c1944a69ee9e",
   "metadata": {},
   "outputs": [],
   "source": [
    "# Ubah nama kolom menjadi ['Index', 'Height(Inches)', 'Weight(Pounds)']\n",
    "df_hw.columns = ['Index', 'Height(Inches)', 'Weight(Pounds)']"
   ]
  },
  {
   "cell_type": "code",
   "execution_count": 166,
   "id": "7602d0a8-90a5-4bf3-a3ea-693a37eaa231",
   "metadata": {},
   "outputs": [
    {
     "name": "stdout",
     "output_type": "stream",
     "text": [
      "\n",
      "Isi DataFrame dengan kolom BMI yang baru ditambahkan:      Index  Height(Inches)  Weight(Pounds)  Height(Meters)  Weight(Kilograms)  \\\n",
      "0    Index             NaN             NaN             NaN                NaN   \n",
      "1        1           65.78          112.99        1.670812          51.251360   \n",
      "2        2           71.52          136.49        1.816608          61.910772   \n",
      "3        3           69.40          153.03        1.762760          69.413184   \n",
      "4        4           68.22          142.34        1.732788          64.564285   \n",
      "..     ...             ...             ...             ...                ...   \n",
      "196    196           65.80          120.84        1.671320          54.812057   \n",
      "197    197           66.11          115.78        1.679194          52.516882   \n",
      "198    198           68.24          128.30        1.733296          58.195854   \n",
      "199    199           68.02          127.47        1.727708          57.819372   \n",
      "200    200           71.39          127.88        1.813306          58.005345   \n",
      "\n",
      "           BMI  \n",
      "0          NaN  \n",
      "1    18.359051  \n",
      "2    18.760473  \n",
      "3    22.338581  \n",
      "4    21.503120  \n",
      "..         ...  \n",
      "196  19.622615  \n",
      "197  18.625039  \n",
      "198  19.370756  \n",
      "199  19.370137  \n",
      "200  17.641106  \n",
      "\n",
      "[201 rows x 6 columns]\n"
     ]
    }
   ],
   "source": [
    "# Pastikan kolom Height dan Weight dalam format numerik, konversi jika masih berupa string\n",
    "df_hw['Height(Inches)'] = pd.to_numeric(df_hw['Height(Inches)'], errors='coerce')# Menggunakan pd.to_numeric() untuk mengonversi nilai yang tidak bisa dikonversi menjadi NaN\n",
    "df_hw['Weight(Pounds)'] = pd.to_numeric(df_hw['Weight(Pounds)'], errors='coerce')\n",
    "\n",
    "# Konversi tinggi ke meter dan berat ke kilogram\n",
    "df_hw['Height(Meters)'] = df_hw['Height(Inches)'] * 0.0254 # Mengkonversi tinggi dari inci ke meter, 1 inci = 0.0254 meter\n",
    "df_hw['Weight(Kilograms)'] = df_hw['Weight(Pounds)'] * 0.453592 # Mengkonversi berat dari pound ke kilogram, 1 pound = 0.453592 kilogram\n",
    "\n",
    "# Tambahkan kolom BMI dengan formula BMI = Berat (kg) / (Tinggi (meter))^2\n",
    "df_hw['BMI'] = df_hw['Weight(Kilograms)'] / (df_hw['Height(Meters)'] ** 2)\n",
    "\n",
    "print(f\"\\nIsi DataFrame dengan kolom BMI yang baru ditambahkan: {df_hw}\")"
   ]
  },
  {
   "cell_type": "code",
   "execution_count": 167,
   "id": "ca34fa63-50b5-4518-bc7f-4325d55a711b",
   "metadata": {},
   "outputs": [
    {
     "name": "stdout",
     "output_type": "stream",
     "text": [
      "\n",
      "Rata-rata BMI dari seluruh data: 19.361702239685133\n"
     ]
    }
   ],
   "source": [
    "# Hitung rata-rata BMI dari seluruh data\n",
    "average_bmi = df_hw['BMI'].mean() #menghitung rata rata mody mass index\n",
    "\n",
    "print(f\"\\nRata-rata BMI dari seluruh data: {average_bmi}\")"
   ]
  },
  {
   "cell_type": "code",
   "execution_count": 168,
   "id": "f6eb9087-9510-4244-8908-d3191b75d9e7",
   "metadata": {},
   "outputs": [
    {
     "name": "stdout",
     "output_type": "stream",
     "text": [
      "Top 10 Produk Berdasarkan Total Sales:\n",
      "Product Name\n",
      "Canon imageCLASS 2200 Advanced Copier                                          61599.824\n",
      "Fellowes PB500 Electric Punch Plastic Comb Binding Machine with Manual Bind    27453.384\n",
      "Cisco TelePresence System EX90 Videoconferencing Unit                          22638.480\n",
      "HON 5400 Series Task Chairs for Big and Tall                                   21870.576\n",
      "GBC DocuBind TL300 Electric Binding System                                     19823.479\n",
      "GBC Ibimaster 500 Manual ProClick Binding System                               19024.500\n",
      "Hewlett Packard LaserJet 3310 Copier                                           18839.686\n",
      "HP Designjet T520 Inkjet Large Format Printer - 24\" Color                      18374.895\n",
      "GBC DocuBind P400 Electric Binding System                                      17965.068\n",
      "High Speed Automatic Electric Letter Opener                                    17030.312\n",
      "Name: Sales, dtype: float64\n"
     ]
    }
   ],
   "source": [
    "import pandas as pd\n",
    "import matplotlib.pyplot as plt\n",
    "\n",
    "# Baca data dari file Excel\n",
    "df = pd.read_excel('Sample_Superstore.xlsx')\n",
    "\n",
    "# Menghitung total sales untuk setiap produk\n",
    "top_products = df.groupby('Product Name')['Sales'].sum() # Mengelompokkan data berdasarkan nama produk dan menghitung total penjualan untuk setiap produk\n",
    "\n",
    "# Mengurutkan produk berdasarkan total sales dan memilih 10 teratas\n",
    "top_10_products = top_products.sort_values(ascending=False).head(10) # Mengurutkan total penjualan untuk setiap produk dari yang terbesar ke terkecil, lalu mengambil 10 produk teratas\n",
    "\n",
    "print(\"Top 10 Produk Berdasarkan Total Sales:\")\n",
    "print(top_10_products)"
   ]
  },
  {
   "cell_type": "code",
   "execution_count": 169,
   "id": "604fa7b3-3d28-4603-a381-f51e159e4d34",
   "metadata": {},
   "outputs": [
    {
     "name": "stdout",
     "output_type": "stream",
     "text": [
      "Top 5 Pelanggan dengan Pembelian Tertinggi:\n",
      "Customer Name\n",
      "Sean Miller      25043.050\n",
      "Tamara Chand     19052.218\n",
      "Raymond Buch     15117.339\n",
      "Tom Ashbrook     14595.620\n",
      "Adrian Barton    14473.571\n",
      "Name: Sales, dtype: float64\n"
     ]
    }
   ],
   "source": [
    "# Menghitung total sales untuk setiap pelanggan\n",
    "top_customers = df.groupby('Customer Name')['Sales'].sum() # Mengelompokkan data berdasarkan nama customer dan menghitung total penjualan untuk setiap produk\n",
    "\n",
    "# Mengurutkan pelanggan berdasarkan total sales dan memilih 5 teratas\n",
    "top_5_customers = top_customers.sort_values(ascending=False).head(5) # Mengurutkan total penjualan untuk setiap produk dari yang terbesar ke terkecil, lalu mengambil 5 produk teratas\n",
    "\n",
    "print(\"Top 5 Pelanggan dengan Pembelian Tertinggi:\")\n",
    "print(top_5_customers)"
   ]
  },
  {
   "cell_type": "code",
   "execution_count": 170,
   "id": "1acab459-741f-4652-bfc6-3eee3c8615b1",
   "metadata": {},
   "outputs": [
    {
     "name": "stdout",
     "output_type": "stream",
     "text": [
      "Kota dengan Rata-Rata Profit Tertinggi:\n",
      "City\n",
      "Jamestown    642.88575\n",
      "Name: Profit, dtype: float64\n"
     ]
    }
   ],
   "source": [
    "# Menghitung rata-rata profit untuk setiap kota\n",
    "avg_profit_by_city = df.groupby('City')['Profit'].mean() # Mengelompokkan data berdasarkan kolom 'City', kemudian menghitung rata-rata profit untuk setiap kota\n",
    "\n",
    "# Mengurutkan kota berdasarkan rata-rata profit dan memilih yang tertinggi\n",
    "city_with_highest_avg_profit = avg_profit_by_city.sort_values(ascending=False).head(1) # Mengurutkan rata-rata profit per kota dari yang terbesar ke terkecil, lalu mengambil kota dengan rata-rata profit tertinggi\n",
    "\n",
    "print(\"Kota dengan Rata-Rata Profit Tertinggi:\")\n",
    "print(city_with_highest_avg_profit)\n"
   ]
  },
  {
   "cell_type": "code",
   "execution_count": 171,
   "id": "27272753-1c53-4644-8d3f-d4fef0bc5b28",
   "metadata": {},
   "outputs": [
    {
     "data": {
      "image/png": "[encoded data removed]",
      "text/plain": [
       "<Figure size 1000x500 with 1 Axes>"
      ]
     },
     "metadata": {},
     "output_type": "display_data"
    }
   ],
   "source": [
    "# Visualisasi Top 10 Produk Berdasarkan Total Sales\n",
    "plt.figure(figsize=(10, 5)) # Membuat sebuah figure dengan ukuran 10x5 untuk visualisasi\n",
    "top_10_products.plot(kind='bar', color='skyblue', edgecolor='black') # Memvisualisasikan top 10 produk dalam bentuk bar plot\n",
    "plt.title('Top 10 Produk Berdasarkan Total Sales') # Menambahkan Judul\n",
    "plt.xlabel('Produk') # Menambahkan label pada sumbu x\n",
    "plt.ylabel('Total Sales') # Menambahkan label pada sumbu y\n",
    "plt.xticks(rotation=90) # Memutar label produk pada sumbu x sebesar 90 derajat agar lebih mudah dibaca\n",
    "plt.show() # Menampilkan plot ke layar"
   ]
  },
  {
   "cell_type": "code",
   "execution_count": 172,
   "id": "95ed7c27-b422-453f-aae4-5048eaf21e64",
   "metadata": {},
   "outputs": [
    {
     "name": "stdout",
     "output_type": "stream",
     "text": [
      "                            OLS Regression Results                            \n",
      "==============================================================================\n",
      "Dep. Variable:                  Sales   R-squared:                       0.001\n",
      "Model:                            OLS   Adj. R-squared:                  0.001\n",
      "Method:                 Least Squares   F-statistic:                     7.947\n",
      "Date:                Thu, 12 Sep 2024   Prob (F-statistic):            0.00483\n",
      "Time:                        13:00:31   Log-Likelihood:                -78487.\n",
      "No. Observations:                9994   AIC:                         1.570e+05\n",
      "Df Residuals:                    9992   BIC:                         1.570e+05\n",
      "Df Model:                           1                                         \n",
      "Covariance Type:            nonrobust                                         \n",
      "==============================================================================\n",
      "                 coef    std err          t      P>|t|      [0.025      0.975]\n",
      "------------------------------------------------------------------------------\n",
      "const        243.1511      7.815     31.113      0.000     227.832     258.470\n",
      "Discount     -85.1014     30.188     -2.819      0.005    -144.277     -25.926\n",
      "==============================================================================\n",
      "Omnibus:                    18045.898   Durbin-Watson:                   1.988\n",
      "Prob(Omnibus):                  0.000   Jarque-Bera (JB):         39310332.570\n",
      "Skew:                          12.989   Prob(JB):                         0.00\n",
      "Kurtosis:                     309.148   Cond. No.                         4.97\n",
      "==============================================================================\n",
      "\n",
      "Notes:\n",
      "[1] Standard Errors assume that the covariance matrix of the errors is correctly specified.\n"
     ]
    }
   ],
   "source": [
    "import numpy as np\n",
    "import statsmodels.api as sm\n",
    "\n",
    "# Memilih kolom yang diperlukan\n",
    "data = df[['Sales', 'Discount']].dropna() # Memilih kolom 'Sales' dan 'Discount' dari DataFrame, dan menghapus baris yang memiliki nilai NaN\n",
    "\n",
    "# Menentukan variabel independen (X) sebagai 'Discount' dan variabel dependen (Y) sebagai 'Sales'\n",
    "X = data['Discount']\n",
    "Y = data['Sales']\n",
    "\n",
    "# Menambahkan konstanta pada variabel X agar model dapat menghitung intercept (titik potong dengan sumbu Y)\n",
    "X = sm.add_constant(X)\n",
    "\n",
    "# Membuat model regresi linier\n",
    "model = sm.OLS(Y, X).fit() # Membuat model regresi linier menggunakan Ordinary Least Squares (OLS)\n",
    "\n",
    "# Menampilkan ringkasan hasil regresi linier, termasuk koefisien, R-squared, nilai p, dan informasi lainnya\n",
    "print(model.summary())"
   ]
  }
 ],
 "metadata": {
  "kernelspec": {
   "display_name": "Python 3 (ipykernel)",
   "language": "python",
   "name": "python3"
  },
  "language_info": {
   "codemirror_mode": {
    "name": "ipython",
    "version": 3
   },
   "file_extension": ".py",
   "mimetype": "text/x-python",
   "name": "python",
   "nbconvert_exporter": "python",
   "pygments_lexer": "ipython3",
   "version": "3.12.4"
  }
 },
 "nbformat": 4,
 "nbformat_minor": 5
}
