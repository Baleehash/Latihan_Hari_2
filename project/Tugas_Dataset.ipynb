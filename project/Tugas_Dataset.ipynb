{
 "cells": [
  {
   "cell_type": "code",
   "execution_count": 1,
   "id": "cf07c8ba-2b90-44c8-92a6-ec39b000e671",
   "metadata": {},
   "outputs": [],
   "source": [
    "# Mengimpor pustaka Pandas, NumPy, Matplotlib, dan Seaborn untuk manipulasi data, visualisasi, dan analisis\n",
    "import pandas as pd  # Pandas digunakan untuk memanipulasi dan menganalisis data, terutama dalam bentuk DataFrame\n",
    "import numpy as np  # NumPy digunakan untuk komputasi numerik dan operasi array\n",
    "import matplotlib.pyplot as plt  # Matplotlib digunakan untuk membuat berbagai visualisasi seperti grafik dan plot\n",
    "import seaborn as sns  # Seaborn digunakan untuk membuat visualisasi statistik yang lebih menarik berdasarkan Matplotlib\n",
    "\n",
    "# Mengatur tema default untuk semua plot yang dibuat dengan Seaborn\n",
    "sns.set()  # Mengaktifkan tampilan default Seaborn, memberikan gaya yang lebih bersih dan estetis untuk plot\n",
    "\n",
    "# Mengimpor pustaka warnings untuk menangani peringatan yang mungkin muncul selama runtime\n",
    "import warnings  # Warnings digunakan untuk mengontrol dan memfilter peringatan saat menjalankan kode\n",
    "\n",
    "# Menonaktifkan semua peringatan agar output lebih bersih dan tidak terganggu oleh pesan peringatan yang tidak diperlukan\n",
    "warnings.filterwarnings('ignore')  # Mengabaikan semua peringatan, agar kode tetap berjalan tanpa menampilkan pesan peringatan yang mungkin tidak penting"
   ]
  },
  {
   "cell_type": "code",
   "execution_count": 5,
   "id": "8fdcee37-fbca-40e8-8a76-b3d53068eb75",
   "metadata": {},
   "outputs": [
    {
     "data": {
      "text/html": [
       "<div>\n",
       "<style scoped>\n",
       "    .dataframe tbody tr th:only-of-type {\n",
       "        vertical-align: middle;\n",
       "    }\n",
       "\n",
       "    .dataframe tbody tr th {\n",
       "        vertical-align: top;\n",
       "    }\n",
       "\n",
       "    .dataframe thead th {\n",
       "        text-align: right;\n",
       "    }\n",
       "</style>\n",
       "<table border=\"1\" class=\"dataframe\">\n",
       "  <thead>\n",
       "    <tr style=\"text-align: right;\">\n",
       "      <th></th>\n",
       "      <th>Ship Mode</th>\n",
       "      <th>Segment</th>\n",
       "      <th>Country</th>\n",
       "      <th>City</th>\n",
       "      <th>State</th>\n",
       "      <th>Postal Code</th>\n",
       "      <th>Region</th>\n",
       "      <th>Category</th>\n",
       "      <th>Sub-Category</th>\n",
       "      <th>Sales</th>\n",
       "      <th>Quantity</th>\n",
       "      <th>Discount</th>\n",
       "      <th>Profit</th>\n",
       "    </tr>\n",
       "  </thead>\n",
       "  <tbody>\n",
       "    <tr>\n",
       "      <th>0</th>\n",
       "      <td>Second Class</td>\n",
       "      <td>Consumer</td>\n",
       "      <td>United States</td>\n",
       "      <td>Henderson</td>\n",
       "      <td>Kentucky</td>\n",
       "      <td>42420</td>\n",
       "      <td>South</td>\n",
       "      <td>Furniture</td>\n",
       "      <td>Bookcases</td>\n",
       "      <td>261.9600</td>\n",
       "      <td>2</td>\n",
       "      <td>0.00</td>\n",
       "      <td>41.9136</td>\n",
       "    </tr>\n",
       "    <tr>\n",
       "      <th>1</th>\n",
       "      <td>Second Class</td>\n",
       "      <td>Consumer</td>\n",
       "      <td>United States</td>\n",
       "      <td>Henderson</td>\n",
       "      <td>Kentucky</td>\n",
       "      <td>42420</td>\n",
       "      <td>South</td>\n",
       "      <td>Furniture</td>\n",
       "      <td>Chairs</td>\n",
       "      <td>731.9400</td>\n",
       "      <td>3</td>\n",
       "      <td>0.00</td>\n",
       "      <td>219.5820</td>\n",
       "    </tr>\n",
       "    <tr>\n",
       "      <th>2</th>\n",
       "      <td>Second Class</td>\n",
       "      <td>Corporate</td>\n",
       "      <td>United States</td>\n",
       "      <td>Los Angeles</td>\n",
       "      <td>California</td>\n",
       "      <td>90036</td>\n",
       "      <td>West</td>\n",
       "      <td>Office Supplies</td>\n",
       "      <td>Labels</td>\n",
       "      <td>14.6200</td>\n",
       "      <td>2</td>\n",
       "      <td>0.00</td>\n",
       "      <td>6.8714</td>\n",
       "    </tr>\n",
       "    <tr>\n",
       "      <th>3</th>\n",
       "      <td>Standard Class</td>\n",
       "      <td>Consumer</td>\n",
       "      <td>United States</td>\n",
       "      <td>Fort Lauderdale</td>\n",
       "      <td>Florida</td>\n",
       "      <td>33311</td>\n",
       "      <td>South</td>\n",
       "      <td>Furniture</td>\n",
       "      <td>Tables</td>\n",
       "      <td>957.5775</td>\n",
       "      <td>5</td>\n",
       "      <td>0.45</td>\n",
       "      <td>-383.0310</td>\n",
       "    </tr>\n",
       "    <tr>\n",
       "      <th>4</th>\n",
       "      <td>Standard Class</td>\n",
       "      <td>Consumer</td>\n",
       "      <td>United States</td>\n",
       "      <td>Fort Lauderdale</td>\n",
       "      <td>Florida</td>\n",
       "      <td>33311</td>\n",
       "      <td>South</td>\n",
       "      <td>Office Supplies</td>\n",
       "      <td>Storage</td>\n",
       "      <td>22.3680</td>\n",
       "      <td>2</td>\n",
       "      <td>0.20</td>\n",
       "      <td>2.5164</td>\n",
       "    </tr>\n",
       "    <tr>\n",
       "      <th>...</th>\n",
       "      <td>...</td>\n",
       "      <td>...</td>\n",
       "      <td>...</td>\n",
       "      <td>...</td>\n",
       "      <td>...</td>\n",
       "      <td>...</td>\n",
       "      <td>...</td>\n",
       "      <td>...</td>\n",
       "      <td>...</td>\n",
       "      <td>...</td>\n",
       "      <td>...</td>\n",
       "      <td>...</td>\n",
       "      <td>...</td>\n",
       "    </tr>\n",
       "    <tr>\n",
       "      <th>9988</th>\n",
       "      <td>Standard Class</td>\n",
       "      <td>Corporate</td>\n",
       "      <td>United States</td>\n",
       "      <td>Athens</td>\n",
       "      <td>Georgia</td>\n",
       "      <td>30605</td>\n",
       "      <td>South</td>\n",
       "      <td>Technology</td>\n",
       "      <td>Phones</td>\n",
       "      <td>206.1000</td>\n",
       "      <td>5</td>\n",
       "      <td>0.00</td>\n",
       "      <td>55.6470</td>\n",
       "    </tr>\n",
       "    <tr>\n",
       "      <th>9989</th>\n",
       "      <td>Second Class</td>\n",
       "      <td>Consumer</td>\n",
       "      <td>United States</td>\n",
       "      <td>Miami</td>\n",
       "      <td>Florida</td>\n",
       "      <td>33180</td>\n",
       "      <td>South</td>\n",
       "      <td>Furniture</td>\n",
       "      <td>Furnishings</td>\n",
       "      <td>25.2480</td>\n",
       "      <td>3</td>\n",
       "      <td>0.20</td>\n",
       "      <td>4.1028</td>\n",
       "    </tr>\n",
       "    <tr>\n",
       "      <th>9990</th>\n",
       "      <td>Standard Class</td>\n",
       "      <td>Consumer</td>\n",
       "      <td>United States</td>\n",
       "      <td>Costa Mesa</td>\n",
       "      <td>California</td>\n",
       "      <td>92627</td>\n",
       "      <td>West</td>\n",
       "      <td>Furniture</td>\n",
       "      <td>Furnishings</td>\n",
       "      <td>91.9600</td>\n",
       "      <td>2</td>\n",
       "      <td>0.00</td>\n",
       "      <td>15.6332</td>\n",
       "    </tr>\n",
       "    <tr>\n",
       "      <th>9991</th>\n",
       "      <td>Standard Class</td>\n",
       "      <td>Consumer</td>\n",
       "      <td>United States</td>\n",
       "      <td>Costa Mesa</td>\n",
       "      <td>California</td>\n",
       "      <td>92627</td>\n",
       "      <td>West</td>\n",
       "      <td>Technology</td>\n",
       "      <td>Phones</td>\n",
       "      <td>258.5760</td>\n",
       "      <td>2</td>\n",
       "      <td>0.20</td>\n",
       "      <td>19.3932</td>\n",
       "    </tr>\n",
       "    <tr>\n",
       "      <th>9992</th>\n",
       "      <td>Standard Class</td>\n",
       "      <td>Consumer</td>\n",
       "      <td>United States</td>\n",
       "      <td>Costa Mesa</td>\n",
       "      <td>California</td>\n",
       "      <td>92627</td>\n",
       "      <td>West</td>\n",
       "      <td>Office Supplies</td>\n",
       "      <td>Paper</td>\n",
       "      <td>29.6000</td>\n",
       "      <td>4</td>\n",
       "      <td>0.00</td>\n",
       "      <td>13.3200</td>\n",
       "    </tr>\n",
       "  </tbody>\n",
       "</table>\n",
       "<p>9993 rows × 13 columns</p>\n",
       "</div>"
      ],
      "text/plain": [
       "           Ship Mode    Segment        Country             City       State  \\\n",
       "0       Second Class   Consumer  United States        Henderson    Kentucky   \n",
       "1       Second Class   Consumer  United States        Henderson    Kentucky   \n",
       "2       Second Class  Corporate  United States      Los Angeles  California   \n",
       "3     Standard Class   Consumer  United States  Fort Lauderdale     Florida   \n",
       "4     Standard Class   Consumer  United States  Fort Lauderdale     Florida   \n",
       "...              ...        ...            ...              ...         ...   \n",
       "9988  Standard Class  Corporate  United States           Athens     Georgia   \n",
       "9989    Second Class   Consumer  United States            Miami     Florida   \n",
       "9990  Standard Class   Consumer  United States       Costa Mesa  California   \n",
       "9991  Standard Class   Consumer  United States       Costa Mesa  California   \n",
       "9992  Standard Class   Consumer  United States       Costa Mesa  California   \n",
       "\n",
       "      Postal Code Region         Category Sub-Category     Sales  Quantity  \\\n",
       "0           42420  South        Furniture    Bookcases  261.9600         2   \n",
       "1           42420  South        Furniture       Chairs  731.9400         3   \n",
       "2           90036   West  Office Supplies       Labels   14.6200         2   \n",
       "3           33311  South        Furniture       Tables  957.5775         5   \n",
       "4           33311  South  Office Supplies      Storage   22.3680         2   \n",
       "...           ...    ...              ...          ...       ...       ...   \n",
       "9988        30605  South       Technology       Phones  206.1000         5   \n",
       "9989        33180  South        Furniture  Furnishings   25.2480         3   \n",
       "9990        92627   West        Furniture  Furnishings   91.9600         2   \n",
       "9991        92627   West       Technology       Phones  258.5760         2   \n",
       "9992        92627   West  Office Supplies        Paper   29.6000         4   \n",
       "\n",
       "      Discount    Profit  \n",
       "0         0.00   41.9136  \n",
       "1         0.00  219.5820  \n",
       "2         0.00    6.8714  \n",
       "3         0.45 -383.0310  \n",
       "4         0.20    2.5164  \n",
       "...        ...       ...  \n",
       "9988      0.00   55.6470  \n",
       "9989      0.20    4.1028  \n",
       "9990      0.00   15.6332  \n",
       "9991      0.20   19.3932  \n",
       "9992      0.00   13.3200  \n",
       "\n",
       "[9993 rows x 13 columns]"
      ]
     },
     "execution_count": 5,
     "metadata": {},
     "output_type": "execute_result"
    }
   ],
   "source": [
    "# Membaca file CSV bernama 'SampleSuperstore.csv' menggunakan Pandas dan menyimpannya ke dalam variabel 'data'\n",
    "data = pd.read_csv('../rawdata/SampleSuperstore.csv')  # Fungsi pd.read_csv digunakan untuk membaca file CSV dan mengonversinya menjadi DataFrame\n",
    "\n",
    "# Menampilkan data yang telah dibaca untuk memeriksa apakah file berhasil dimuat dan untuk melihat sekilas isinya\n",
    "data  # Menampilkan DataFrame 'data' yang memuat informasi dari file 'SampleSuperstore.csv'"
   ]
  },
  {
   "cell_type": "code",
   "execution_count": null,
   "id": "34ea87cb-7a5a-4525-a17a-5e6cb321315d",
   "metadata": {},
   "outputs": [],
   "source": [
    "# Menghasilkan ringkasan statistik deskriptif untuk semua kolom dalam DataFrame 'data'\n",
    "# `include='all'` memastikan bahwa statistik disertakan untuk kolom dengan berbagai tipe data, termasuk numerik dan non-numerik\n",
    "data.describe(include='all')  # Menampilkan statistik deskriptif yang mencakup jumlah nilai, rata-rata dan statistik lainnya untuk semua kolom"
   ]
  },
  {
   "cell_type": "code",
   "execution_count": null,
   "id": "29f67ad7-7b45-434d-ab45-4b3f392a606e",
   "metadata": {},
   "outputs": [],
   "source": [
    "# Membuat histogram untuk setiap kolom numerik dalam DataFrame 'data'\n",
    "# `bins=10` menentukan jumlah interval untuk histogram\n",
    "# `figsize=(18,10)` mengatur ukuran figure menjadi 18 inci x 10 inci untuk tampilan yang lebih besar dan jelas\n",
    "data.hist(bins=10, figsize=(18,10))  # Menampilkan histogram dengan 10 bins untuk setiap kolom numerik dalam DataFrame"
   ]
  },
  {
   "cell_type": "code",
   "execution_count": null,
   "id": "a7f72df3-a0ba-48e8-a1d8-c48db2ef12b7",
   "metadata": {},
   "outputs": [],
   "source": [
    "# Mengatur ukuran figure untuk heatmap\n",
    "plt.figure(figsize=(4, 4))  # Ukuran figure diatur menjadi 4 inci x 4 inci\n",
    "\n",
    "# Menghasilkan heatmap dari matriks korelasi untuk kolom-kolom numerik dalam DataFrame 'numerical_data'\n",
    "# `annot=True` menambahkan nilai korelasi di setiap sel untuk memudahkan interpretasi\n",
    "sns.heatmap(numerical_data.corr(), annot=True)  # Menampilkan heatmap dengan nilai korelasi untuk analisis hubungan antar variabel numerik"
   ]
  },
  {
   "cell_type": "code",
   "execution_count": null,
   "id": "94537fdb-c191-4a21-816a-8c9dae066079",
   "metadata": {},
   "outputs": [],
   "source": [
    "# Menghasilkan pairplot untuk DataFrame 'data', dengan pewarnaan berdasarkan kolom 'Ship Mode'\n",
    "# `hue='Ship Mode'` memungkinkan visualisasi perbedaan berdasarkan kategori Ship Mode dengan warna yang berbeda\n",
    "sns.pairplot(data, hue='Ship Mode')  # Menampilkan pairplot untuk menganalisis hubungan antar variabel berdasarkan kategori Ship Mode"
   ]
  },
  {
   "cell_type": "code",
   "execution_count": null,
   "id": "fd133183-8d12-48e8-bef2-3d2050f96e8b",
   "metadata": {},
   "outputs": [],
   "source": [
    "# Membuat grafik batang untuk kolom 'Ship Mode' dalam DataFrame 'data'\n",
    "# `x='Ship Mode'` menentukan sumbu x grafik berdasarkan kategori Ship Mode\n",
    "# `data=data` menyediakan data yang akan dianalisis\n",
    "# `palette='tab10'` menggunakan palet warna tab10 yang memberikan 10 warna berbeda untuk batang\n",
    "sns.countplot(x='Ship Mode', data=data, palette='tab10')  # Menampilkan countplot untuk melihat jumlah frekuensi dari setiap kategori Ship Mode"
   ]
  },
  {
   "cell_type": "code",
   "execution_count": null,
   "id": "7676638e-9dd1-4575-9182-f45a1974ccd9",
   "metadata": {},
   "outputs": [],
   "source": [
    "# Mengelompokkan data berdasarkan kolom 'Ship Mode' dan menghitung rata-rata dari kolom 'Sales', 'Profit', dan 'Discount' untuk setiap grup\n",
    "data_shipmode = data.groupby(['Ship Mode'])[['Sales', 'Profit', 'Discount']].mean()  # Menyimpan hasil rata-rata dalam DataFrame baru 'data_shipmode'\n",
    "data_shipmode"
   ]
  },
  {
   "cell_type": "code",
   "execution_count": null,
   "id": "44d894d9-f41b-43b5-a446-b4320355a33d",
   "metadata": {},
   "outputs": [],
   "source": [
    "colors_4 = ['magenta','yellow','orange','red']\n",
    "colors_3 = ['green', 'blue','cyan']"
   ]
  },
  {
   "cell_type": "code",
   "execution_count": null,
   "id": "4f748342-8a77-4747-9090-47b6e85117ba",
   "metadata": {},
   "outputs": [],
   "source": [
    "# Membuat pie chart untuk kolom 'Sales', 'Profit', dan 'Discount' berdasarkan mode pengiriman ('Ship Mode')\n",
    "# Mengatur label, ukuran, dan efek visual\n",
    "# Menampilkan pie chart\n",
    "data_shipmode.plot.pie(subplots=True, figsize=(20,10), labels=data_shipmode.index, autopct='%1.1f%%', explode=(0.01,0.01,0.01,0.01), colors=colors_4)\n",
    "plt.show()"
   ]
  },
  {
   "cell_type": "code",
   "execution_count": null,
   "id": "6920ba07-fa39-43b4-891a-12927403eee6",
   "metadata": {},
   "outputs": [],
   "source": [
    "# Mengurutkan data berdasarkan kolom 'Profit' dalam urutan menaik dan memilih kolom 'Profit' dan 'Sales' untuk diplot\n",
    "data_shipmode.sort_values('Profit')[['Profit', 'Sales']].plot(kind='bar', figsize=(10,7))\n",
    "\n",
    "# Menampilkan bar chart\n",
    "plt.show()"
   ]
  },
  {
   "cell_type": "code",
   "execution_count": null,
   "id": "afc2fc86-e681-41a5-ba0d-15e4a3d2073f",
   "metadata": {},
   "outputs": [],
   "source": [
    "data_shipmode.sum(axis=0)"
   ]
  },
  {
   "cell_type": "code",
   "execution_count": null,
   "id": "0b4d9845-be5e-4d07-b1ef-0327eafe0df3",
   "metadata": {},
   "outputs": [],
   "source": [
    "# Membuat kolom baru 'Sales%' yang menghitung persentase penjualan berdasarkan pembagi 9.285\n",
    "data_shipmode['Sales%'] = data_shipmode['Sales'] / 9.285\n",
    "\n",
    "# Membuat kolom baru 'Profit%' yang menghitung persentase profit berdasarkan pembagi 1.181\n",
    "data_shipmode['Profit%'] = data_shipmode['Profit'] / 1.181"
   ]
  },
  {
   "cell_type": "code",
   "execution_count": null,
   "id": "feeedf14-ff5a-4c97-afc9-7b64fd3fd5b9",
   "metadata": {},
   "outputs": [],
   "source": [
    "data_shipmode.sort_values('Profit%')"
   ]
  },
  {
   "cell_type": "code",
   "execution_count": null,
   "id": "54233c42-4667-4084-a7cd-0230daa0c775",
   "metadata": {},
   "outputs": [],
   "source": [
    "#Analys based on segment\n",
    "sns.pairplot(data, hue='Segment')# Melakukan analisis hubungan antar variabel berdasarkan segmen"
   ]
  },
  {
   "cell_type": "code",
   "execution_count": null,
   "id": "ac5b2eeb-1154-461b-84be-051db8af2acf",
   "metadata": {},
   "outputs": [],
   "source": [
    "# Membuat bar plot untuk menghitung jumlah kategori dalam kolom 'Segment'\n",
    "sns.countplot(x='Segment', data=data, palette='tab10')"
   ]
  },
  {
   "cell_type": "code",
   "execution_count": null,
   "id": "540f8924-5354-484c-9d2d-d42a4f77ed71",
   "metadata": {},
   "outputs": [],
   "source": [
    "# Mengelompokkan data berdasarkan kolom 'Segment' dan menghitung nilai rata-rata untuk kolom 'Sales', 'Profit', dan 'Discount'\n",
    "data_segment = data.groupby(['Segment'])[['Sales', 'Profit', 'Discount']].mean()"
   ]
  },
  {
   "cell_type": "code",
   "execution_count": null,
   "id": "8087caaa-181e-4027-8dc7-e35a21c69f8b",
   "metadata": {},
   "outputs": [],
   "source": [
    "data_segment.plot.pie(subplots=True, figsize=(20,10), labels=data_segment.index, autopct='%1.1f%%', colors=colors_3)"
   ]
  },
  {
   "cell_type": "code",
   "execution_count": null,
   "id": "7d85825c-b06a-4a33-b756-a0cd44f464fd",
   "metadata": {},
   "outputs": [],
   "source": [
    "# Mengurutkan data_segment berdasarkan nilai 'Profit' dalam urutan menaik\n",
    "# Kemudian membuat bar plot untuk kolom 'Profit' dan 'Sales' setelah pengurutan"
   ]
  },
  {
   "cell_type": "code",
   "execution_count": null,
   "id": "4b966a9c-c99d-45b4-9fee-8f58a667b99f",
   "metadata": {},
   "outputs": [],
   "source": [
    "data_segment.sum(axis=0)"
   ]
  },
  {
   "cell_type": "code",
   "execution_count": null,
   "id": "cbe265a3-bb4a-484b-8b2b-fe28e2f71e3a",
   "metadata": {},
   "outputs": [],
   "source": [
    "data_segment['Sales%'] = data_segment['Sales']/6.985\n",
    "data_segment['Profit%'] = data_segment['Profit']/0.9011"
   ]
  },
  {
   "cell_type": "code",
   "execution_count": null,
   "id": "40c0dc81-d77d-4b11-8f95-c35c88d9f17a",
   "metadata": {},
   "outputs": [],
   "source": [
    "data_segment.sort_values('Profit')"
   ]
  },
  {
   "cell_type": "code",
   "execution_count": null,
   "id": "c0cd2641-7c2f-4c67-8da6-1755acbd5919",
   "metadata": {},
   "outputs": [],
   "source": [
    "#Analysis based on State\n",
    "plt.figure(figsize=(18,10))\n",
    "sns.countplot(data['State'])\n",
    "plt.xticks(rotation=90)"
   ]
  },
  {
   "cell_type": "code",
   "execution_count": null,
   "id": "7d42e908-1e5f-47af-924d-9cf254e54247",
   "metadata": {},
   "outputs": [],
   "source": [
    "data_state = data.groupby(['State'])[['Sales','Profit','Discount']].mean()"
   ]
  },
  {
   "cell_type": "code",
   "execution_count": null,
   "id": "d069b270-7153-43a2-807e-174a44e8d44f",
   "metadata": {},
   "outputs": [],
   "source": [
    "data_state1 = data_state.sort_values('Profit')"
   ]
  },
  {
   "cell_type": "code",
   "execution_count": null,
   "id": "a6385286-5682-4585-a5e5-f4879a5b0b6c",
   "metadata": {},
   "outputs": [],
   "source": [
    "data_state2 = data_state.sort_values('Sales')"
   ]
  },
  {
   "cell_type": "code",
   "execution_count": null,
   "id": "dea4ded1-97ce-4c38-bb10-da8dbd878361",
   "metadata": {},
   "outputs": [],
   "source": [
    "data_state2['Sales'].plot(kind='bar', figsize=(15,7)) # Membuat bar plot untuk kolom 'Sales' dari DataFrame 'data_state2'"
   ]
  },
  {
   "cell_type": "code",
   "execution_count": null,
   "id": "c777911f-b34f-473f-92ef-ede76330141d",
   "metadata": {},
   "outputs": [],
   "source": [
    "data_state1['Profit'].plot(kind='bar', figsize=(15,7))"
   ]
  },
  {
   "cell_type": "code",
   "execution_count": null,
   "id": "78d2a4e9-6293-4562-b8d6-2cc3f9faecae",
   "metadata": {},
   "outputs": [],
   "source": [
    "# Mengurutkan DataFrame 'data_state' berdasarkan kolom 'Profit' dalam urutan menaik\n",
    "# Kemudian membuat bar plot untuk kolom 'Profit' setelah pengurutan\n",
    "data_state.sort_values('Profit')['Profit'].plot(kind='bar', figsize=(15,7))\n"
   ]
  },
  {
   "cell_type": "code",
   "execution_count": null,
   "id": "522eed1a-72dd-474c-af73-59092809c141",
   "metadata": {},
   "outputs": [],
   "source": [
    "# Sorted by Profits\n",
    "data_state.sort_values('Profit')[['Profit','Sales']].plot(kind='bar', figsize=(18,8))"
   ]
  },
  {
   "cell_type": "code",
   "execution_count": null,
   "id": "0c72270e-35b0-4488-b0f0-d88d345e2436",
   "metadata": {},
   "outputs": [],
   "source": [
    "# Mengurutkan DataFrame 'data_state' berdasarkan kolom 'Sales' dalam urutan menaik\n",
    "# Kemudian membuat bar plot untuk kolom 'Profit' dan 'Sales' setelah pengurutan\n",
    "data_state.sort_values('Sales')[['Profit', 'Sales']].plot(kind='bar', figsize=(18,8))\n"
   ]
  },
  {
   "cell_type": "code",
   "execution_count": null,
   "id": "caff59fd-7ce2-4c8b-9447-8e334524ba5d",
   "metadata": {},
   "outputs": [],
   "source": [
    "data_state.sum(axis=0)"
   ]
  },
  {
   "cell_type": "code",
   "execution_count": null,
   "id": "d87df8ba-4aa0-4e83-9b98-db69d203297c",
   "metadata": {},
   "outputs": [],
   "source": [
    "data_state['Sales%'] = data_state['Sales']/135.454\n",
    "data_state['Profit%'] = data_state['Profit']/26.483"
   ]
  },
  {
   "cell_type": "code",
   "execution_count": null,
   "id": "80c8beba-98e5-4425-97e6-523ab56bf130",
   "metadata": {},
   "outputs": [],
   "source": [
    "data_state.sort_values('Profit%')"
   ]
  },
  {
   "cell_type": "code",
   "execution_count": null,
   "id": "694648d1-3ff7-4a26-bd01-8945f85f3ff1",
   "metadata": {},
   "outputs": [],
   "source": [
    "# Membuat count plot untuk kolom 'Region' dalam DataFrame 'data'\n",
    "sns.countplot(data['Region'], palette='tab10')\n"
   ]
  },
  {
   "cell_type": "code",
   "execution_count": null,
   "id": "0eefa868-15b3-4b1a-8c92-f6ee5a41bddf",
   "metadata": {},
   "outputs": [],
   "source": [
    "data_region2 = data.groupby(['Region'])[['Sales','Profit']].mean()"
   ]
  },
  {
   "cell_type": "code",
   "execution_count": null,
   "id": "f941c219-1de6-47be-834f-6400e36937ce",
   "metadata": {},
   "outputs": [],
   "source": [
    "data_region2"
   ]
  },
  {
   "cell_type": "code",
   "execution_count": null,
   "id": "352e0a4b-c06f-4e1c-b5f0-c6414c3c697c",
   "metadata": {},
   "outputs": [],
   "source": [
    "# Membuat pie chart untuk data yang dikelompokkan berdasarkan region\n",
    "data_region2.plot.pie(subplots=True, figsize=(15,7), autopct='%1.1f%%', label=data_region2.index.values, colors=colors_4)\n"
   ]
  },
  {
   "cell_type": "code",
   "execution_count": null,
   "id": "df3f973d-5239-48c1-8388-eb3d5f9a5655",
   "metadata": {},
   "outputs": [],
   "source": [
    "data_region2.sum(axis=0)"
   ]
  },
  {
   "cell_type": "code",
   "execution_count": null,
   "id": "682a9f84-934f-40ec-8392-cface02f93d9",
   "metadata": {},
   "outputs": [],
   "source": [
    "data_region2['Sales%'] = data_region2['Sales']/9.224\n",
    "data_region2['Profit%'] = data_region2['Profit']/1.119"
   ]
  },
  {
   "cell_type": "code",
   "execution_count": null,
   "id": "5b4c5f33-86d6-42eb-b28a-d4369f570167",
   "metadata": {},
   "outputs": [],
   "source": [
    "data_region2.sort_values('Profit')"
   ]
  },
  {
   "cell_type": "code",
   "execution_count": null,
   "id": "d85a6494-14e4-49cd-b708-a663cdc0da32",
   "metadata": {},
   "outputs": [],
   "source": [
    "# Membuat count plot untuk kolom 'Sub-Category' dalam DataFrame 'data'\n",
    "plt.figure(figsize=(15,7))  # Mengatur ukuran figure untuk plot menjadi 15x7 inci\n",
    "sns.countplot(data['Sub-Category'])  # Membuat count plot untuk kolom 'Sub-Category'\n",
    "plt.xticks(rotation=90)  # Memutar label sumbu-x sebanyak 90 derajat agar lebih mudah dibaca\n"
   ]
  },
  {
   "cell_type": "code",
   "execution_count": null,
   "id": "3821ffb7-b8eb-405c-bcb1-727edcbae519",
   "metadata": {},
   "outputs": [],
   "source": [
    "# Mengelompokkan data berdasarkan 'Sub-Category' dan menghitung rata-rata 'Sales' dan 'Profit'\n",
    "data_subcat = data.groupby(['Sub-Category'])[['Sales','Profit']].mean() "
   ]
  },
  {
   "cell_type": "code",
   "execution_count": null,
   "id": "c9ab7baa-47bd-4960-8768-a0b0caa84f4e",
   "metadata": {},
   "outputs": [],
   "source": [
    "# Mengatur ukuran figure untuk pie chart menjadi 15x18 inci\n",
    "plt.figure(figsize=(15,18))\n",
    "\n",
    "# Membuat pie chart untuk rata-rata 'Sales' berdasarkan 'Sub-Category'\n",
    "plt.pie(data_subcat['Sales'], labels=data_subcat.index, autopct='%1.1f%%')\n",
    "\n",
    "# Menampilkan pie chart\n",
    "plt.show()"
   ]
  },
  {
   "cell_type": "code",
   "execution_count": null,
   "id": "8af7124c-b8e6-40b1-be48-f7e7e0eb6f13",
   "metadata": {},
   "outputs": [],
   "source": [
    "# Mengurutkan data berdasarkan 'Profit' secara ascending\n",
    "# Kemudian memilih kolom 'Profit' dan 'Sales' untuk ditampilkan dalam bentuk bar plot\n",
    "data_subcat.sort_values('Profit')[['Profit', 'Sales']].plot(kind='bar', figsize=(15,10))\n"
   ]
  },
  {
   "cell_type": "code",
   "execution_count": null,
   "id": "c7c4d40b-8148-48b4-b4c9-3de1407ebd5b",
   "metadata": {},
   "outputs": [],
   "source": [
    "data_subcat.sum(axis=0)"
   ]
  },
  {
   "cell_type": "code",
   "execution_count": null,
   "id": "dfc145a4-cfcb-4b24-a01f-2bb3662b4e43",
   "metadata": {},
   "outputs": [],
   "source": [
    "# Menghitung persentase penjualan ('Sales') dan keuntungan ('Profit') dengan membaginya\n",
    "# dengan nilai total yang sesuai untuk normalisasi.\n",
    "data_subcat['Sales%'] = data_subcat['Sales'] / 72.915\n",
    "data_subcat['Profit%'] = data_subcat['Profit'] / 10.952\n"
   ]
  },
  {
   "cell_type": "code",
   "execution_count": null,
   "id": "4705e6ad-46f4-48f0-a015-ceae90b36bec",
   "metadata": {},
   "outputs": [],
   "source": [
    "data_subcat.sort_values('Sales')"
   ]
  }
 ],
 "metadata": {
  "kernelspec": {
   "display_name": "Python 3 (ipykernel)",
   "language": "python",
   "name": "python3"
  },
  "language_info": {
   "codemirror_mode": {
    "name": "ipython",
    "version": 3
   },
   "file_extension": ".py",
   "mimetype": "text/x-python",
   "name": "python",
   "nbconvert_exporter": "python",
   "pygments_lexer": "ipython3",
   "version": "3.12.4"
  }
 },
 "nbformat": 4,
 "nbformat_minor": 5
}
