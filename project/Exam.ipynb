{
 "cells": [
  {
   "cell_type": "code",
   "execution_count": null,
   "id": "80fe017f-aca8-4841-a475-9899f2a60c88",
   "metadata": {},
   "outputs": [],
   "source": [
    "import pandas as pd\n",
    "\n",
    "# Membaca file Excel\n",
    "df = pd.read_csv('IMDB Dataset.csv')\n",
    "\n",
    "# Menampilkan dataset\n",
    "print(df)\n"
   ]
  },
  {
   "cell_type": "code",
   "execution_count": null,
   "id": "1f3f6fb4-c8e2-4afa-8103-db5431ecb50f",
   "metadata": {},
   "outputs": [],
   "source": [
    "import pandas as pd\n",
    "from nltk.stem import PorterStemmer\n",
    "from nltk.corpus import stopwords\n",
    "import nltk\n",
    "\n",
    "# Mengunduh stopwords (jika belum diunduh)\n",
    "nltk.download('stopwords')\n",
    "\n",
    "# Membaca dataset\n",
    "df = pd.read_csv('IMDB Dataset.csv')\n",
    "\n",
    "# Menampilkan beberapa data awal\n",
    "print(\"Data Awal:\")\n",
    "print(df.head())\n",
    "\n",
    "# Menggunakan Porter Stemmer\n",
    "ps = PorterStemmer()\n",
    "\n",
    "# Fungsi untuk melakukan stemming dan menghapus stopwords\n",
    "def stem_review(review):\n",
    "    words = review.split()\n",
    "    stemmed_words = [ps.stem(word) for word in words if word.lower() not in stopwords.words('english')]\n",
    "    return ' '.join(stemmed_words)\n",
    "\n",
    "# Melakukan stemming pada seluruh dataset\n",
    "df['stemmed_review'] = df['review'].apply(stem_review)\n",
    "\n",
    "# Menampilkan beberapa data setelah stemming\n",
    "print(\"\\nData Setelah Stemming:\")\n",
    "print(df[['review', 'stemmed_review']].head())\n"
   ]
  }
 ],
 "metadata": {
  "kernelspec": {
   "display_name": "Python 3 (ipykernel)",
   "language": "python",
   "name": "python3"
  },
  "language_info": {
   "codemirror_mode": {
    "name": "ipython",
    "version": 3
   },
   "file_extension": ".py",
   "mimetype": "text/x-python",
   "name": "python",
   "nbconvert_exporter": "python",
   "pygments_lexer": "ipython3",
   "version": "3.12.4"
  }
 },
 "nbformat": 4,
 "nbformat_minor": 5
}
