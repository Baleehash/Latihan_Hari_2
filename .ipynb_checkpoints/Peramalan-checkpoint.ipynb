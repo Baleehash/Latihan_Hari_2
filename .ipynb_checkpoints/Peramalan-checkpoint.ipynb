{
 "cells": [
  {
   "cell_type": "code",
   "execution_count": null,
   "id": "a027c06a-eb02-4eec-9a50-454cffbddb5e",
   "metadata": {},
   "outputs": [],
   "source": [
    "pip install pandas numpy matplotlib statsmodels scikit-learn tensorflow"
   ]
  },
  {
   "cell_type": "code",
   "execution_count": 5,
   "id": "8ffe4068-7a68-42fc-ac0a-2a4213cb1efd",
   "metadata": {},
   "outputs": [
    {
     "name": "stdout",
     "output_type": "stream",
     "text": [
      "Index(['Date', 'Day', 'Year', 'Customer_Age', 'Age_Group', 'Customer_Gender',\n",
      "       'Country', 'State', 'Product_Category', 'Sub_Category', 'Product',\n",
      "       'Order_Quantity', 'Unit_Cost', 'Unit_Price', 'Profit', 'Cost',\n",
      "       'Revenue'],\n",
      "      dtype='object')\n"
     ]
    },
    {
     "name": "stderr",
     "output_type": "stream",
     "text": [
      "C:\\Users\\Risma\\AppData\\Local\\Temp\\ipykernel_14848\\1928887282.py:3: UserWarning: Could not infer format, so each element will be parsed individually, falling back to `dateutil`. To ensure parsing is consistent and as-expected, please specify a format.\n",
      "  data = pd.read_csv('sales_data.csv', parse_dates=['Month'], index_col='Month')\n"
     ]
    }
   ],
   "source": [
    "import pandas as pd\n",
    "\n",
    "data = pd.read_csv('sales_data.csv', parse_dates=['Month'], index_col='Month')\n",
    "print(data.columns) # Menampilkan nama kolom\n"
   ]
  },
  {
   "cell_type": "code",
   "execution_count": 6,
   "id": "f99c5577-e3c9-4053-9f8b-395fe43ee3ee",
   "metadata": {},
   "outputs": [
    {
     "name": "stdout",
     "output_type": "stream",
     "text": [
      "Perkiraan penjualan bulan berikutnya: 754.3703598853463\n"
     ]
    },
    {
     "name": "stderr",
     "output_type": "stream",
     "text": [
      "C:\\Users\\Risma\\AppData\\Local\\Temp\\ipykernel_14848\\1089032483.py:2: UserWarning: Could not infer format, so each element will be parsed individually, falling back to `dateutil`. To ensure parsing is consistent and as-expected, please specify a format.\n",
      "  data = pd.read_csv('sales_data.csv', parse_dates=['Month'], index_col='Month')\n"
     ]
    }
   ],
   "source": [
    "import pandas as pd\n",
    "data = pd.read_csv('sales_data.csv', parse_dates=['Month'], index_col='Month')\n",
    "forecast = data['Revenue'].mean()\n",
    "print(f\"Perkiraan penjualan bulan berikutnya: {forecast}\")\n"
   ]
  },
  {
   "cell_type": "code",
   "execution_count": 8,
   "id": "3676cb90-252a-4ae6-934b-033d851fae22",
   "metadata": {},
   "outputs": [
    {
     "name": "stdout",
     "output_type": "stream",
     "text": [
      "             Date  Day  Year  Customer_Age       Age_Group Customer_Gender  \\\n",
      "Month                                                                        \n",
      "April  2016-04-12   12  2016            41  Adults (35-64)               M   \n",
      "April  2014-04-02    2  2014            18     Youth (<25)               M   \n",
      "April  2016-04-02    2  2016            18     Youth (<25)               M   \n",
      "March  2014-03-04    4  2014            37  Adults (35-64)               F   \n",
      "March  2016-03-04    4  2016            37  Adults (35-64)               F   \n",
      "\n",
      "              Country          State Product_Category Sub_Category  \\\n",
      "Month                                                                \n",
      "April  United Kingdom        England         Clothing        Vests   \n",
      "April       Australia     Queensland         Clothing        Vests   \n",
      "April       Australia     Queensland         Clothing        Vests   \n",
      "March          France  Seine (Paris)         Clothing        Vests   \n",
      "March          France  Seine (Paris)         Clothing        Vests   \n",
      "\n",
      "               Product  Order_Quantity  Unit_Cost  Unit_Price  Profit  Cost  \\\n",
      "Month                                                                         \n",
      "April  Classic Vest, S               3         24          64     112    72   \n",
      "April  Classic Vest, M              22         24          64     655   528   \n",
      "April  Classic Vest, M              22         24          64     655   528   \n",
      "March  Classic Vest, L              24         24          64     684   576   \n",
      "March  Classic Vest, L              23         24          64     655   552   \n",
      "\n",
      "       Revenue  Moving_Average  \n",
      "Month                           \n",
      "April      184      225.333333  \n",
      "April     1183      578.666667  \n",
      "April     1183      850.000000  \n",
      "March     1260     1208.666667  \n",
      "March     1207     1216.666667  \n"
     ]
    }
   ],
   "source": [
    "window = 3  # Rentang waktu untuk rata-rata bergerak\n",
    "data['Moving_Average'] = data['Revenue'].rolling(window=window).mean()\n",
    "print(data.tail())"
   ]
  },
  {
   "cell_type": "code",
   "execution_count": 10,
   "id": "f26596c1-3c8b-4e1d-9e43-c443cdd757c7",
   "metadata": {},
   "outputs": [
    {
     "name": "stderr",
     "output_type": "stream",
     "text": [
      "C:\\Users\\Risma\\anaconda3\\Lib\\site-packages\\statsmodels\\tsa\\base\\tsa_model.py:559: UserWarning: Could not infer format, so each element will be parsed individually, falling back to `dateutil`. To ensure parsing is consistent and as-expected, please specify a format.\n",
      "  _index = to_datetime(index)\n",
      "C:\\Users\\Risma\\anaconda3\\Lib\\site-packages\\statsmodels\\tsa\\base\\tsa_model.py:473: ValueWarning: An unsupported index was provided and will be ignored when e.g. forecasting.\n",
      "  self._init_dates(dates, freq)\n",
      "C:\\Users\\Risma\\anaconda3\\Lib\\site-packages\\statsmodels\\tsa\\base\\tsa_model.py:836: ValueWarning: No supported index is available. Prediction results will be given with an integer index beginning at `start`.\n",
      "  return get_prediction_index(\n",
      "C:\\Users\\Risma\\anaconda3\\Lib\\site-packages\\statsmodels\\tsa\\base\\tsa_model.py:836: FutureWarning: No supported index is available. In the next version, calling this method in a model without a supported index will result in an exception.\n",
      "  return get_prediction_index(\n"
     ]
    },
    {
     "name": "stdout",
     "output_type": "stream",
     "text": [
      "113036    965.283155\n",
      "113037    965.283155\n",
      "113038    965.283155\n",
      "113039    965.283155\n",
      "113040    965.283155\n",
      "113041    965.283155\n",
      "113042    965.283155\n",
      "113043    965.283155\n",
      "113044    965.283155\n",
      "113045    965.283155\n",
      "113046    965.283155\n",
      "113047    965.283155\n",
      "dtype: float64\n"
     ]
    }
   ],
   "source": [
    "from statsmodels.tsa.holtwinters import SimpleExpSmoothing\n",
    "model = SimpleExpSmoothing(data['Revenue'])\n",
    "model_fit = model.fit(smoothing_level=0.2, optimized=False)\n",
    "forecast = model_fit.forecast(steps=12)\n",
    "print(forecast)"
   ]
  },
  {
   "cell_type": "code",
   "execution_count": 11,
   "id": "c6a20f60-24be-466c-99f3-2d54a1cfb3b3",
   "metadata": {},
   "outputs": [
    {
     "name": "stderr",
     "output_type": "stream",
     "text": [
      "C:\\Users\\Risma\\anaconda3\\Lib\\site-packages\\statsmodels\\tsa\\base\\tsa_model.py:559: UserWarning: Could not infer format, so each element will be parsed individually, falling back to `dateutil`. To ensure parsing is consistent and as-expected, please specify a format.\n",
      "  _index = to_datetime(index)\n",
      "C:\\Users\\Risma\\anaconda3\\Lib\\site-packages\\statsmodels\\tsa\\base\\tsa_model.py:473: ValueWarning: An unsupported index was provided and will be ignored when e.g. forecasting.\n",
      "  self._init_dates(dates, freq)\n",
      "C:\\Users\\Risma\\anaconda3\\Lib\\site-packages\\statsmodels\\tsa\\base\\tsa_model.py:559: UserWarning: Could not infer format, so each element will be parsed individually, falling back to `dateutil`. To ensure parsing is consistent and as-expected, please specify a format.\n",
      "  _index = to_datetime(index)\n",
      "C:\\Users\\Risma\\anaconda3\\Lib\\site-packages\\statsmodels\\tsa\\base\\tsa_model.py:473: ValueWarning: An unsupported index was provided and will be ignored when e.g. forecasting.\n",
      "  self._init_dates(dates, freq)\n",
      "C:\\Users\\Risma\\anaconda3\\Lib\\site-packages\\statsmodels\\tsa\\base\\tsa_model.py:559: UserWarning: Could not infer format, so each element will be parsed individually, falling back to `dateutil`. To ensure parsing is consistent and as-expected, please specify a format.\n",
      "  _index = to_datetime(index)\n",
      "C:\\Users\\Risma\\anaconda3\\Lib\\site-packages\\statsmodels\\tsa\\base\\tsa_model.py:473: ValueWarning: An unsupported index was provided and will be ignored when e.g. forecasting.\n",
      "  self._init_dates(dates, freq)\n"
     ]
    },
    {
     "name": "stdout",
     "output_type": "stream",
     "text": [
      "113036    1048.646074\n",
      "113037     985.111246\n",
      "113038    1105.947545\n",
      "113039    1110.486649\n",
      "113040    1116.345592\n",
      "113041    1102.030827\n",
      "113042    1094.934941\n",
      "113043    1083.040251\n",
      "113044    1098.046526\n",
      "113045    1097.652954\n",
      "113046    1099.470999\n",
      "113047    1096.053967\n",
      "Name: predicted_mean, dtype: float64\n"
     ]
    },
    {
     "name": "stderr",
     "output_type": "stream",
     "text": [
      "C:\\Users\\Risma\\anaconda3\\Lib\\site-packages\\statsmodels\\tsa\\base\\tsa_model.py:836: ValueWarning: No supported index is available. Prediction results will be given with an integer index beginning at `start`.\n",
      "  return get_prediction_index(\n",
      "C:\\Users\\Risma\\anaconda3\\Lib\\site-packages\\statsmodels\\tsa\\base\\tsa_model.py:836: FutureWarning: No supported index is available. In the next version, calling this method in a model without a supported index will result in an exception.\n",
      "  return get_prediction_index(\n"
     ]
    }
   ],
   "source": [
    "from statsmodels.tsa.arima.model import ARIMA\n",
    "model = ARIMA(data['Revenue'], order=(5,1,0))  # (p,d,q)\n",
    "model_fit = model.fit()\n",
    "forecast = model_fit.forecast(steps=12)\n",
    "print(forecast)\n"
   ]
  },
  {
   "cell_type": "code",
   "execution_count": 12,
   "id": "2efc9d73-9732-4b15-ae82-c144a876954f",
   "metadata": {},
   "outputs": [],
   "source": [
    "import numpy as np\n",
    "from sklearn.preprocessing import MinMaxScaler\n",
    "from tensorflow.keras.models import Sequential\n",
    "from tensorflow.keras.layers import LSTM, Dense\n",
    "\n",
    "data_values = data['Revenue'].values.reshape(-1, 1)\n",
    "scaler = MinMaxScaler(feature_range=(0, 1))\n",
    "scaled_data = scaler.fit_transform(data_values)\n",
    "train_size = int(len(scaled_data) * 0.8)\n",
    "train_data = scaled_data[:train_size]\n",
    "test_data = scaled_data[train_size:]\n",
    "\n",
    "def create_dataset(data, time_step=1):\n",
    "    X, y = [], []\n",
    "    for i in range(len(data) - time_step - 1):\n",
    "        X.append(data[i:(i + time_step), 0])\n",
    "        y.append(data[i + time_step, 0])\n",
    "    return np.array(X), np.array(y)\n",
    "\n",
    "time_step = 3\n",
    "X_train, y_train = create_dataset(train_data, time_step)\n",
    "X_test, y_test = create_dataset(test_data, time_step)\n",
    "\n",
    "X_train = X_train.reshape(X_train.shape[0], time_step, 1)\n",
    "X_test = X_test.reshape(X_test.shape[0], time_step, 1)\n"
   ]
  },
  {
   "cell_type": "code",
   "execution_count": 13,
   "id": "76729834-7bc0-4405-9c24-7706679b3640",
   "metadata": {},
   "outputs": [
    {
     "name": "stderr",
     "output_type": "stream",
     "text": [
      "C:\\Users\\Risma\\anaconda3\\Lib\\site-packages\\keras\\src\\layers\\rnn\\rnn.py:204: UserWarning: Do not pass an `input_shape`/`input_dim` argument to a layer. When using Sequential models, prefer using an `Input(shape)` object as the first layer in the model instead.\n",
      "  super().__init__(**kwargs)\n"
     ]
    },
    {
     "name": "stdout",
     "output_type": "stream",
     "text": [
      "Epoch 1/100\n",
      "\u001b[1m2826/2826\u001b[0m \u001b[32m━━━━━━━━━━━━━━━━━━━━\u001b[0m\u001b[37m\u001b[0m \u001b[1m77s\u001b[0m 18ms/step - loss: 2.3873e-04\n",
      "Epoch 2/100\n",
      "\u001b[1m2826/2826\u001b[0m \u001b[32m━━━━━━━━━━━━━━━━━━━━\u001b[0m\u001b[37m\u001b[0m \u001b[1m46s\u001b[0m 16ms/step - loss: 1.9831e-04\n",
      "Epoch 3/100\n",
      "\u001b[1m2826/2826\u001b[0m \u001b[32m━━━━━━━━━━━━━━━━━━━━\u001b[0m\u001b[37m\u001b[0m \u001b[1m44s\u001b[0m 15ms/step - loss: 1.9828e-04\n",
      "Epoch 4/100\n",
      "\u001b[1m2826/2826\u001b[0m \u001b[32m━━━━━━━━━━━━━━━━━━━━\u001b[0m\u001b[37m\u001b[0m \u001b[1m45s\u001b[0m 16ms/step - loss: 1.9108e-04\n",
      "Epoch 5/100\n",
      "\u001b[1m2826/2826\u001b[0m \u001b[32m━━━━━━━━━━━━━━━━━━━━\u001b[0m\u001b[37m\u001b[0m \u001b[1m44s\u001b[0m 15ms/step - loss: 1.9214e-04\n",
      "Epoch 6/100\n",
      "\u001b[1m2826/2826\u001b[0m \u001b[32m━━━━━━━━━━━━━━━━━━━━\u001b[0m\u001b[37m\u001b[0m \u001b[1m80s\u001b[0m 14ms/step - loss: 1.8207e-04\n",
      "Epoch 7/100\n",
      "\u001b[1m2826/2826\u001b[0m \u001b[32m━━━━━━━━━━━━━━━━━━━━\u001b[0m\u001b[37m\u001b[0m \u001b[1m40s\u001b[0m 14ms/step - loss: 1.8658e-04\n",
      "Epoch 8/100\n",
      "\u001b[1m2826/2826\u001b[0m \u001b[32m━━━━━━━━━━━━━━━━━━━━\u001b[0m\u001b[37m\u001b[0m \u001b[1m40s\u001b[0m 14ms/step - loss: 1.8913e-04\n",
      "Epoch 9/100\n",
      "\u001b[1m2826/2826\u001b[0m \u001b[32m━━━━━━━━━━━━━━━━━━━━\u001b[0m\u001b[37m\u001b[0m \u001b[1m42s\u001b[0m 15ms/step - loss: 1.9001e-04\n",
      "Epoch 10/100\n",
      "\u001b[1m2826/2826\u001b[0m \u001b[32m━━━━━━━━━━━━━━━━━━━━\u001b[0m\u001b[37m\u001b[0m \u001b[1m44s\u001b[0m 16ms/step - loss: 1.8288e-04\n",
      "Epoch 11/100\n",
      "\u001b[1m2826/2826\u001b[0m \u001b[32m━━━━━━━━━━━━━━━━━━━━\u001b[0m\u001b[37m\u001b[0m \u001b[1m44s\u001b[0m 16ms/step - loss: 1.8323e-04\n",
      "Epoch 12/100\n",
      "\u001b[1m2826/2826\u001b[0m \u001b[32m━━━━━━━━━━━━━━━━━━━━\u001b[0m\u001b[37m\u001b[0m \u001b[1m78s\u001b[0m 14ms/step - loss: 1.7970e-04\n",
      "Epoch 13/100\n",
      "\u001b[1m2826/2826\u001b[0m \u001b[32m━━━━━━━━━━━━━━━━━━━━\u001b[0m\u001b[37m\u001b[0m \u001b[1m40s\u001b[0m 14ms/step - loss: 1.8791e-04\n",
      "Epoch 14/100\n",
      "\u001b[1m2826/2826\u001b[0m \u001b[32m━━━━━━━━━━━━━━━━━━━━\u001b[0m\u001b[37m\u001b[0m \u001b[1m39s\u001b[0m 14ms/step - loss: 1.8284e-04\n",
      "Epoch 15/100\n",
      "\u001b[1m2826/2826\u001b[0m \u001b[32m━━━━━━━━━━━━━━━━━━━━\u001b[0m\u001b[37m\u001b[0m \u001b[1m42s\u001b[0m 15ms/step - loss: 1.8033e-04\n",
      "Epoch 16/100\n",
      "\u001b[1m2826/2826\u001b[0m \u001b[32m━━━━━━━━━━━━━━━━━━━━\u001b[0m\u001b[37m\u001b[0m \u001b[1m77s\u001b[0m 13ms/step - loss: 1.8162e-04\n",
      "Epoch 17/100\n",
      "\u001b[1m2826/2826\u001b[0m \u001b[32m━━━━━━━━━━━━━━━━━━━━\u001b[0m\u001b[37m\u001b[0m \u001b[1m40s\u001b[0m 14ms/step - loss: 1.7748e-04\n",
      "Epoch 18/100\n",
      "\u001b[1m2826/2826\u001b[0m \u001b[32m━━━━━━━━━━━━━━━━━━━━\u001b[0m\u001b[37m\u001b[0m \u001b[1m40s\u001b[0m 14ms/step - loss: 1.8404e-04\n",
      "Epoch 19/100\n",
      "\u001b[1m2826/2826\u001b[0m \u001b[32m━━━━━━━━━━━━━━━━━━━━\u001b[0m\u001b[37m\u001b[0m \u001b[1m40s\u001b[0m 14ms/step - loss: 1.7817e-04\n",
      "Epoch 20/100\n",
      "\u001b[1m2826/2826\u001b[0m \u001b[32m━━━━━━━━━━━━━━━━━━━━\u001b[0m\u001b[37m\u001b[0m \u001b[1m41s\u001b[0m 14ms/step - loss: 1.7992e-04\n",
      "Epoch 21/100\n",
      "\u001b[1m2826/2826\u001b[0m \u001b[32m━━━━━━━━━━━━━━━━━━━━\u001b[0m\u001b[37m\u001b[0m \u001b[1m42s\u001b[0m 15ms/step - loss: 1.7561e-04\n",
      "Epoch 22/100\n",
      "\u001b[1m2826/2826\u001b[0m \u001b[32m━━━━━━━━━━━━━━━━━━━━\u001b[0m\u001b[37m\u001b[0m \u001b[1m78s\u001b[0m 13ms/step - loss: 1.7981e-04\n",
      "Epoch 23/100\n",
      "\u001b[1m2826/2826\u001b[0m \u001b[32m━━━━━━━━━━━━━━━━━━━━\u001b[0m\u001b[37m\u001b[0m \u001b[1m40s\u001b[0m 14ms/step - loss: 1.8515e-04\n",
      "Epoch 24/100\n",
      "\u001b[1m2826/2826\u001b[0m \u001b[32m━━━━━━━━━━━━━━━━━━━━\u001b[0m\u001b[37m\u001b[0m \u001b[1m41s\u001b[0m 14ms/step - loss: 1.7726e-04\n",
      "Epoch 25/100\n",
      "\u001b[1m2826/2826\u001b[0m \u001b[32m━━━━━━━━━━━━━━━━━━━━\u001b[0m\u001b[37m\u001b[0m \u001b[1m42s\u001b[0m 15ms/step - loss: 1.8059e-04\n",
      "Epoch 26/100\n",
      "\u001b[1m2826/2826\u001b[0m \u001b[32m━━━━━━━━━━━━━━━━━━━━\u001b[0m\u001b[37m\u001b[0m \u001b[1m76s\u001b[0m 13ms/step - loss: 1.7986e-04\n",
      "Epoch 27/100\n",
      "\u001b[1m2826/2826\u001b[0m \u001b[32m━━━━━━━━━━━━━━━━━━━━\u001b[0m\u001b[37m\u001b[0m \u001b[1m40s\u001b[0m 14ms/step - loss: 1.8166e-04\n",
      "Epoch 28/100\n",
      "\u001b[1m2826/2826\u001b[0m \u001b[32m━━━━━━━━━━━━━━━━━━━━\u001b[0m\u001b[37m\u001b[0m \u001b[1m41s\u001b[0m 14ms/step - loss: 1.7835e-04\n",
      "Epoch 29/100\n",
      "\u001b[1m2826/2826\u001b[0m \u001b[32m━━━━━━━━━━━━━━━━━━━━\u001b[0m\u001b[37m\u001b[0m \u001b[1m40s\u001b[0m 14ms/step - loss: 1.8527e-04\n",
      "Epoch 30/100\n",
      "\u001b[1m2826/2826\u001b[0m \u001b[32m━━━━━━━━━━━━━━━━━━━━\u001b[0m\u001b[37m\u001b[0m \u001b[1m42s\u001b[0m 15ms/step - loss: 1.7866e-04\n",
      "Epoch 31/100\n",
      "\u001b[1m2826/2826\u001b[0m \u001b[32m━━━━━━━━━━━━━━━━━━━━\u001b[0m\u001b[37m\u001b[0m \u001b[1m42s\u001b[0m 15ms/step - loss: 1.7957e-04\n",
      "Epoch 32/100\n",
      "\u001b[1m2826/2826\u001b[0m \u001b[32m━━━━━━━━━━━━━━━━━━━━\u001b[0m\u001b[37m\u001b[0m \u001b[1m78s\u001b[0m 13ms/step - loss: 1.8535e-04\n",
      "Epoch 33/100\n",
      "\u001b[1m2826/2826\u001b[0m \u001b[32m━━━━━━━━━━━━━━━━━━━━\u001b[0m\u001b[37m\u001b[0m \u001b[1m40s\u001b[0m 14ms/step - loss: 1.8120e-04\n",
      "Epoch 34/100\n",
      "\u001b[1m2826/2826\u001b[0m \u001b[32m━━━━━━━━━━━━━━━━━━━━\u001b[0m\u001b[37m\u001b[0m \u001b[1m44s\u001b[0m 15ms/step - loss: 1.7777e-04\n",
      "Epoch 41/100\n",
      "\u001b[1m2826/2826\u001b[0m \u001b[32m━━━━━━━━━━━━━━━━━━━━\u001b[0m\u001b[37m\u001b[0m \u001b[1m42s\u001b[0m 15ms/step - loss: 1.7561e-04\n",
      "Epoch 42/100\n",
      "\u001b[1m2826/2826\u001b[0m \u001b[32m━━━━━━━━━━━━━━━━━━━━\u001b[0m\u001b[37m\u001b[0m \u001b[1m42s\u001b[0m 15ms/step - loss: 1.7579e-04\n",
      "Epoch 43/100\n",
      "\u001b[1m2826/2826\u001b[0m \u001b[32m━━━━━━━━━━━━━━━━━━━━\u001b[0m\u001b[37m\u001b[0m \u001b[1m43s\u001b[0m 15ms/step - loss: 1.7499e-04\n",
      "Epoch 44/100\n",
      "\u001b[1m2826/2826\u001b[0m \u001b[32m━━━━━━━━━━━━━━━━━━━━\u001b[0m\u001b[37m\u001b[0m \u001b[1m83s\u001b[0m 15ms/step - loss: 1.8030e-04\n",
      "Epoch 45/100\n",
      "\u001b[1m2826/2826\u001b[0m \u001b[32m━━━━━━━━━━━━━━━━━━━━\u001b[0m\u001b[37m\u001b[0m \u001b[1m41s\u001b[0m 15ms/step - loss: 1.8471e-04\n",
      "Epoch 46/100\n",
      "\u001b[1m2826/2826\u001b[0m \u001b[32m━━━━━━━━━━━━━━━━━━━━\u001b[0m\u001b[37m\u001b[0m \u001b[1m43s\u001b[0m 15ms/step - loss: 1.7567e-04\n",
      "Epoch 47/100\n",
      "\u001b[1m2826/2826\u001b[0m \u001b[32m━━━━━━━━━━━━━━━━━━━━\u001b[0m\u001b[37m\u001b[0m \u001b[1m41s\u001b[0m 15ms/step - loss: 1.7281e-04\n",
      "Epoch 48/100\n",
      "\u001b[1m2826/2826\u001b[0m \u001b[32m━━━━━━━━━━━━━━━━━━━━\u001b[0m\u001b[37m\u001b[0m \u001b[1m42s\u001b[0m 15ms/step - loss: 1.7433e-04\n",
      "Epoch 49/100\n",
      "\u001b[1m2826/2826\u001b[0m \u001b[32m━━━━━━━━━━━━━━━━━━━━\u001b[0m\u001b[37m\u001b[0m \u001b[1m79s\u001b[0m 14ms/step - loss: 1.6976e-04\n",
      "Epoch 50/100\n",
      "\u001b[1m2826/2826\u001b[0m \u001b[32m━━━━━━━━━━━━━━━━━━━━\u001b[0m\u001b[37m\u001b[0m \u001b[1m42s\u001b[0m 15ms/step - loss: 1.6847e-04\n",
      "Epoch 51/100\n",
      "\u001b[1m2826/2826\u001b[0m \u001b[32m━━━━━━━━━━━━━━━━━━━━\u001b[0m\u001b[37m\u001b[0m \u001b[1m42s\u001b[0m 15ms/step - loss: 1.7261e-04\n",
      "Epoch 52/100\n",
      "\u001b[1m2826/2826\u001b[0m \u001b[32m━━━━━━━━━━━━━━━━━━━━\u001b[0m\u001b[37m\u001b[0m \u001b[1m81s\u001b[0m 15ms/step - loss: 1.7519e-04\n",
      "Epoch 53/100\n",
      "\u001b[1m2826/2826\u001b[0m \u001b[32m━━━━━━━━━━━━━━━━━━━━\u001b[0m\u001b[37m\u001b[0m \u001b[1m42s\u001b[0m 15ms/step - loss: 1.7901e-04\n",
      "Epoch 54/100\n",
      "\u001b[1m2826/2826\u001b[0m \u001b[32m━━━━━━━━━━━━━━━━━━━━\u001b[0m\u001b[37m\u001b[0m \u001b[1m82s\u001b[0m 15ms/step - loss: 1.6524e-04\n",
      "Epoch 55/100\n",
      "\u001b[1m2826/2826\u001b[0m \u001b[32m━━━━━━━━━━━━━━━━━━━━\u001b[0m\u001b[37m\u001b[0m \u001b[1m43s\u001b[0m 15ms/step - loss: 1.7067e-04\n",
      "Epoch 56/100\n",
      "\u001b[1m2826/2826\u001b[0m \u001b[32m━━━━━━━━━━━━━━━━━━━━\u001b[0m\u001b[37m\u001b[0m \u001b[1m43s\u001b[0m 15ms/step - loss: 1.6914e-04\n",
      "Epoch 57/100\n",
      "\u001b[1m2826/2826\u001b[0m \u001b[32m━━━━━━━━━━━━━━━━━━━━\u001b[0m\u001b[37m\u001b[0m \u001b[1m42s\u001b[0m 15ms/step - loss: 1.6926e-04\n",
      "Epoch 58/100\n",
      "\u001b[1m2826/2826\u001b[0m \u001b[32m━━━━━━━━━━━━━━━━━━━━\u001b[0m\u001b[37m\u001b[0m \u001b[1m83s\u001b[0m 15ms/step - loss: 1.6920e-04\n",
      "Epoch 59/100\n",
      "\u001b[1m2826/2826\u001b[0m \u001b[32m━━━━━━━━━━━━━━━━━━━━\u001b[0m\u001b[37m\u001b[0m \u001b[1m41s\u001b[0m 14ms/step - loss: 1.7159e-04\n",
      "Epoch 60/100\n",
      "\u001b[1m2826/2826\u001b[0m \u001b[32m━━━━━━━━━━━━━━━━━━━━\u001b[0m\u001b[37m\u001b[0m \u001b[1m41s\u001b[0m 15ms/step - loss: 1.7088e-04\n",
      "Epoch 61/100\n",
      "\u001b[1m2826/2826\u001b[0m \u001b[32m━━━━━━━━━━━━━━━━━━━━\u001b[0m\u001b[37m\u001b[0m \u001b[1m41s\u001b[0m 14ms/step - loss: 1.6982e-04\n",
      "Epoch 71/100\n",
      "\u001b[1m2826/2826\u001b[0m \u001b[32m━━━━━━━━━━━━━━━━━━━━\u001b[0m\u001b[37m\u001b[0m \u001b[1m45s\u001b[0m 16ms/step - loss: 1.7330e-04\n",
      "Epoch 72/100\n",
      "\u001b[1m2826/2826\u001b[0m \u001b[32m━━━━━━━━━━━━━━━━━━━━\u001b[0m\u001b[37m\u001b[0m \u001b[1m78s\u001b[0m 14ms/step - loss: 1.7087e-04\n",
      "Epoch 73/100\n",
      "\u001b[1m2826/2826\u001b[0m \u001b[32m━━━━━━━━━━━━━━━━━━━━\u001b[0m\u001b[37m\u001b[0m \u001b[1m40s\u001b[0m 14ms/step - loss: 1.7208e-04\n",
      "Epoch 74/100\n",
      "\u001b[1m2826/2826\u001b[0m \u001b[32m━━━━━━━━━━━━━━━━━━━━\u001b[0m\u001b[37m\u001b[0m \u001b[1m42s\u001b[0m 15ms/step - loss: 1.7253e-04\n",
      "Epoch 75/100\n",
      "\u001b[1m2826/2826\u001b[0m \u001b[32m━━━━━━━━━━━━━━━━━━━━\u001b[0m\u001b[37m\u001b[0m \u001b[1m42s\u001b[0m 15ms/step - loss: 1.6579e-04\n",
      "Epoch 76/100\n",
      "\u001b[1m2826/2826\u001b[0m \u001b[32m━━━━━━━━━━━━━━━━━━━━\u001b[0m\u001b[37m\u001b[0m \u001b[1m48s\u001b[0m 17ms/step - loss: 1.6890e-04\n",
      "Epoch 86/100\n",
      "\u001b[1m2826/2826\u001b[0m \u001b[32m━━━━━━━━━━━━━━━━━━━━\u001b[0m\u001b[37m\u001b[0m \u001b[1m47s\u001b[0m 17ms/step - loss: 1.6869e-04\n",
      "Epoch 87/100\n",
      "\u001b[1m2826/2826\u001b[0m \u001b[32m━━━━━━━━━━━━━━━━━━━━\u001b[0m\u001b[37m\u001b[0m \u001b[1m47s\u001b[0m 17ms/step - loss: 1.7338e-04\n",
      "Epoch 91/100\n",
      "\u001b[1m2826/2826\u001b[0m \u001b[32m━━━━━━━━━━━━━━━━━━━━\u001b[0m\u001b[37m\u001b[0m \u001b[1m46s\u001b[0m 16ms/step - loss: 1.6730e-04\n",
      "Epoch 96/100\n",
      "\u001b[1m2826/2826\u001b[0m \u001b[32m━━━━━━━━━━━━━━━━━━━━\u001b[0m\u001b[37m\u001b[0m \u001b[1m47s\u001b[0m 16ms/step - loss: 1.6727e-04\n",
      "Epoch 97/100\n",
      "\u001b[1m2826/2826\u001b[0m \u001b[32m━━━━━━━━━━━━━━━━━━━━\u001b[0m\u001b[37m\u001b[0m \u001b[1m83s\u001b[0m 18ms/step - loss: 1.6375e-04\n",
      "\u001b[1m2826/2826\u001b[0m \u001b[32m━━━━━━━━━━━━━━━━━━━━\u001b[0m\u001b[37m\u001b[0m \u001b[1m31s\u001b[0m 10ms/step\n",
      "\u001b[1m707/707\u001b[0m \u001b[32m━━━━━━━━━━━━━━━━━━━━\u001b[0m\u001b[37m\u001b[0m \u001b[1m6s\u001b[0m 8ms/step\n"
     ]
    },
    {
     "data": {
      "image/png": "[encoded data removed]",
      "text/plain": [
       "<Figure size 640x480 with 1 Axes>"
      ]
     },
     "metadata": {},
     "output_type": "display_data"
    }
   ],
   "source": [
    "model = Sequential()\n",
    "model.add(LSTM(50, return_sequences=True, input_shape=(time_step, 1)))\n",
    "model.add(LSTM(50, return_sequences=False))\n",
    "model.add(Dense(1))\n",
    "\n",
    "model.compile(optimizer='adam', loss='mean_squared_error')\n",
    "model.fit(X_train, y_train, epochs=100, batch_size=32, verbose=1)\n",
    "\n",
    "train_predict = model.predict(X_train)\n",
    "test_predict = model.predict(X_test)\n",
    "\n",
    "train_predict = scaler.inverse_transform(train_predict)\n",
    "test_predict = scaler.inverse_transform(test_predict)\n",
    "\n",
    "import matplotlib.pyplot as plt\n",
    "\n",
    "plt.plot(scaler.inverse_transform(scaled_data), label='Data Asli')\n",
    "plt.plot(np.arange(time_step, len(train_predict) + time_step), train_predict, label='Prediksi Training')\n",
    "plt.plot(np.arange(len(train_predict) + 2*time_step, len(train_predict) + 2*time_step + len(test_predict)), test_predict, label='Prediksi Testing')\n",
    "plt.legend()\n",
    "plt.show()\n"
   ]
  }
 ],
 "metadata": {
  "kernelspec": {
   "display_name": "Python 3 (ipykernel)",
   "language": "python",
   "name": "python3"
  },
  "language_info": {
   "codemirror_mode": {
    "name": "ipython",
    "version": 3
   },
   "file_extension": ".py",
   "mimetype": "text/x-python",
   "name": "python",
   "nbconvert_exporter": "python",
   "pygments_lexer": "ipython3",
   "version": "3.12.4"
  }
 },
 "nbformat": 4,
 "nbformat_minor": 5
}
