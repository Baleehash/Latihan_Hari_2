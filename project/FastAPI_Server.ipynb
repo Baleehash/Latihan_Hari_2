{
 "cells": [
  {
   "cell_type": "code",
   "execution_count": null,
   "id": "05870907-f39b-4d78-bab1-fb7b919575aa",
   "metadata": {},
   "outputs": [],
   "source": [
    "import nest_asyncio\n",
    "nest_asyncio.apply()"
   ]
  },
  {
   "cell_type": "code",
   "execution_count": null,
   "id": "08f425de-a018-4847-a391-05578e43fd8e",
   "metadata": {},
   "outputs": [],
   "source": [
    "from fastapi import FastAPI\n",
    "import nest_asyncio\n",
    "import uvicorn\n",
    "\n",
    "app = FastAPI()\n",
    "\n",
    "# Endpoint pertama (root) yang menampilkan pesan selamat datang\n",
    "@app.get(\"/\")\n",
    "def read_root():\n",
    "    return {\"message\": \"Welcome to FastAPI from Jupyter Notebook!\"}\n",
    "\n",
    "# Endpoint untuk menjumlahkan dua angka\n",
    "@app.get(\"/add\")\n",
    "def add_numbers(a: int, b: int):\n",
    "    result = a + b\n",
    "    return {\"a\": a, \"b\": b, \"result\": result}\n",
    "\n",
    "# Menjalankan server Uvicorn di background\n",
    "uvicorn.run(app, host=\"127.0.0.1\", port=8000)"
   ]
  }
 ],
 "metadata": {
  "kernelspec": {
   "display_name": "Python 3 (ipykernel)",
   "language": "python",
   "name": "python3"
  },
  "language_info": {
   "codemirror_mode": {
    "name": "ipython",
    "version": 3
   },
   "file_extension": ".py",
   "mimetype": "text/x-python",
   "name": "python",
   "nbconvert_exporter": "python",
   "pygments_lexer": "ipython3",
   "version": "3.12.4"
  }
 },
 "nbformat": 4,
 "nbformat_minor": 5
}
